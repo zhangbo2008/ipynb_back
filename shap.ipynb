{
  "cells": [
    {
      "cell_type": "code",
      "source": [
        "!git clone https://github.com/openai/shap-e"
      ],
      "metadata": {
        "id": "fPU838REDg_1",
        "outputId": "534ce4a6-c742-4b90-b015-27d5dfb68673",
        "colab": {
          "base_uri": "https://localhost:8080/"
        }
      },
      "execution_count": 1,
      "outputs": [
        {
          "output_type": "stream",
          "name": "stdout",
          "text": [
            "Cloning into 'shap-e'...\n",
            "remote: Enumerating objects: 322, done.\u001b[K\n",
            "remote: Counting objects: 100% (44/44), done.\u001b[K\n",
            "remote: Compressing objects: 100% (29/29), done.\u001b[K\n",
            "remote: Total 322 (delta 29), reused 15 (delta 15), pack-reused 278\u001b[K\n",
            "Receiving objects: 100% (322/322), 11.71 MiB | 13.69 MiB/s, done.\n",
            "Resolving deltas: 100% (45/45), done.\n"
          ]
        }
      ]
    },
    {
      "cell_type": "code",
      "source": [
        "cd shap-e"
      ],
      "metadata": {
        "id": "fJWpQcgZDg7v",
        "outputId": "2c712447-6e00-4c4c-f0e8-0e0ccc232d13",
        "colab": {
          "base_uri": "https://localhost:8080/"
        }
      },
      "execution_count": 2,
      "outputs": [
        {
          "output_type": "stream",
          "name": "stdout",
          "text": [
            "/content/shap-e\n"
          ]
        }
      ]
    },
    {
      "cell_type": "code",
      "source": [
        "!pip install blobfile\n",
        "!pip install git+https://github.com/openai/CLIP.git\n",
        "import torch\n",
        "\n",
        "from shap_e.diffusion.sample import sample_latents\n",
        "from shap_e.diffusion.gaussian_diffusion import diffusion_from_config\n",
        "from shap_e.models.download import load_model, load_config\n",
        "from shap_e.util.notebooks import create_pan_cameras, decode_latent_images, gif_widget\n",
        "from shap_e.util.image_util import load_image\n",
        "device = torch.device('cuda' if torch.cuda.is_available() else 'cpu')\n",
        "xm = load_model('transmitter', device=device)\n",
        "model = load_model('image300M', device=device)\n",
        "diffusion = diffusion_from_config(load_config('diffusion'))\n",
        "batch_size = 4\n",
        "guidance_scale = 3.0\n",
        "\n",
        "# To get the best result, you should remove the background and show only the object of interest to the model.\n",
        "image = load_image(\"/content/shap-e/shap_e/examples/example_data/corgi.png\")\n",
        "\n",
        "image = load_image(\"/content/bbb.jpg\")\n",
        "#image = load_image(\"/content/ccc.jpg\") #注意图片一定shi图片一定是全身像,并且背景为白色\n",
        "\n",
        "latents = sample_latents(\n",
        "    batch_size=batch_size,\n",
        "    model=model,\n",
        "    diffusion=diffusion,\n",
        "    guidance_scale=guidance_scale,\n",
        "    model_kwargs=dict(images=[image] * batch_size),\n",
        "    progress=True,\n",
        "    clip_denoised=True,\n",
        "    use_fp16=True,\n",
        "    use_karras=True,\n",
        "    karras_steps=64,\n",
        "    sigma_min=1e-3,\n",
        "    sigma_max=160,\n",
        "    s_churn=0,\n",
        ")\n",
        "render_mode = 'nerf' # you can change this to 'stf' for mesh rendering\n",
        "size = 64 # this is the size of the renders; higher values take longer to render.\n",
        "\n",
        "cameras = create_pan_cameras(size, device)\n",
        "for i, latent in enumerate(latents):\n",
        "    images = decode_latent_images(xm, latent, cameras, rendering_mode=render_mode)\n",
        "    display(gif_widget(images))"
      ],
      "metadata": {
        "id": "9GI9eFIKDQQh",
        "outputId": "af865d73-9408-473c-e7c1-32867d1bdfac",
        "colab": {
          "base_uri": "https://localhost:8080/",
          "height": 1000,
          "referenced_widgets": [
            "a9ecd0804a4749c09eae54648201543e",
            "4780ac7d1c5e49e3b8e7fc2c80f590a7",
            "77fc9fae87da4f02978f2b4247a8341b",
            "806b2dbce53d4d02b45372a6880fd0d5",
            "831a18ae9f354dcfb428e8946b5c292e",
            "2f3558ea35374cde9da56295bb771eee",
            "798923bc5b854b59ac03d62011d6ed36",
            "c817bebc78ac42d4876eaf27465b739d",
            "0d37d1c5682b460cad3aea8edc237cea",
            "ca69ff019ff14c619117cf381bdb5a24",
            "705a172d7f4441a59e5e61710f28019e",
            "c002209d5c624ace99a02e91c682c01c",
            "97f98c81f7be45dabb80eab3275f2c7f",
            "e8be8b0baec24dcdb19772f116c67ec5",
            "33422671a4694c95bbfa84d8ad32dd44",
            "8459a93a0efe47eda3acee1c6e23f82f",
            "3bff03faa7bb4d149341475b46a55aea",
            "aa510c17e12d485fb27e7e4dc753cab2",
            "63a4f9e31b1c4f978be6e2fb3b7c461c",
            "a4abd4b17e88416fbf65868fa55f0120",
            "6b29a18160a846008372871082e126b3",
            "c619cadba6d6425a88d2893bc15541ad",
            "65e32bd7a2004cde8fb1483316ad6f24"
          ]
        }
      },
      "execution_count": 7,
      "outputs": [
        {
          "output_type": "stream",
          "name": "stdout",
          "text": [
            "Looking in indexes: https://pypi.org/simple, https://us-python.pkg.dev/colab-wheels/public/simple/\n",
            "Requirement already satisfied: blobfile in /usr/local/lib/python3.10/dist-packages (2.0.2)\n",
            "Requirement already satisfied: pycryptodomex~=3.8 in /usr/local/lib/python3.10/dist-packages (from blobfile) (3.17)\n",
            "Requirement already satisfied: urllib3<3,>=1.25.3 in /usr/local/lib/python3.10/dist-packages (from blobfile) (1.26.15)\n",
            "Requirement already satisfied: lxml~=4.9 in /usr/local/lib/python3.10/dist-packages (from blobfile) (4.9.2)\n",
            "Requirement already satisfied: filelock~=3.0 in /usr/local/lib/python3.10/dist-packages (from blobfile) (3.12.0)\n",
            "Looking in indexes: https://pypi.org/simple, https://us-python.pkg.dev/colab-wheels/public/simple/\n",
            "Collecting git+https://github.com/openai/CLIP.git\n",
            "  Cloning https://github.com/openai/CLIP.git to /tmp/pip-req-build-8_hne6hc\n",
            "  Running command git clone --filter=blob:none --quiet https://github.com/openai/CLIP.git /tmp/pip-req-build-8_hne6hc\n",
            "  Resolved https://github.com/openai/CLIP.git to commit a9b1bf5920416aaeaec965c25dd9e8f98c864f16\n",
            "  Preparing metadata (setup.py) ... \u001b[?25l\u001b[?25hdone\n",
            "Requirement already satisfied: ftfy in /usr/local/lib/python3.10/dist-packages (from clip==1.0) (6.1.1)\n",
            "Requirement already satisfied: regex in /usr/local/lib/python3.10/dist-packages (from clip==1.0) (2022.10.31)\n",
            "Requirement already satisfied: tqdm in /usr/local/lib/python3.10/dist-packages (from clip==1.0) (4.65.0)\n",
            "Requirement already satisfied: torch in /usr/local/lib/python3.10/dist-packages (from clip==1.0) (2.0.0+cu118)\n",
            "Requirement already satisfied: torchvision in /usr/local/lib/python3.10/dist-packages (from clip==1.0) (0.15.1+cu118)\n",
            "Requirement already satisfied: wcwidth>=0.2.5 in /usr/local/lib/python3.10/dist-packages (from ftfy->clip==1.0) (0.2.6)\n",
            "Requirement already satisfied: filelock in /usr/local/lib/python3.10/dist-packages (from torch->clip==1.0) (3.12.0)\n",
            "Requirement already satisfied: typing-extensions in /usr/local/lib/python3.10/dist-packages (from torch->clip==1.0) (4.5.0)\n",
            "Requirement already satisfied: sympy in /usr/local/lib/python3.10/dist-packages (from torch->clip==1.0) (1.11.1)\n",
            "Requirement already satisfied: networkx in /usr/local/lib/python3.10/dist-packages (from torch->clip==1.0) (3.1)\n",
            "Requirement already satisfied: jinja2 in /usr/local/lib/python3.10/dist-packages (from torch->clip==1.0) (3.1.2)\n",
            "Requirement already satisfied: triton==2.0.0 in /usr/local/lib/python3.10/dist-packages (from torch->clip==1.0) (2.0.0)\n",
            "Requirement already satisfied: cmake in /usr/local/lib/python3.10/dist-packages (from triton==2.0.0->torch->clip==1.0) (3.25.2)\n",
            "Requirement already satisfied: lit in /usr/local/lib/python3.10/dist-packages (from triton==2.0.0->torch->clip==1.0) (16.0.3)\n",
            "Requirement already satisfied: numpy in /usr/local/lib/python3.10/dist-packages (from torchvision->clip==1.0) (1.22.4)\n",
            "Requirement already satisfied: requests in /usr/local/lib/python3.10/dist-packages (from torchvision->clip==1.0) (2.27.1)\n",
            "Requirement already satisfied: pillow!=8.3.*,>=5.3.0 in /usr/local/lib/python3.10/dist-packages (from torchvision->clip==1.0) (8.4.0)\n",
            "Requirement already satisfied: MarkupSafe>=2.0 in /usr/local/lib/python3.10/dist-packages (from jinja2->torch->clip==1.0) (2.1.2)\n",
            "Requirement already satisfied: urllib3<1.27,>=1.21.1 in /usr/local/lib/python3.10/dist-packages (from requests->torchvision->clip==1.0) (1.26.15)\n",
            "Requirement already satisfied: certifi>=2017.4.17 in /usr/local/lib/python3.10/dist-packages (from requests->torchvision->clip==1.0) (2022.12.7)\n",
            "Requirement already satisfied: charset-normalizer~=2.0.0 in /usr/local/lib/python3.10/dist-packages (from requests->torchvision->clip==1.0) (2.0.12)\n",
            "Requirement already satisfied: idna<4,>=2.5 in /usr/local/lib/python3.10/dist-packages (from requests->torchvision->clip==1.0) (3.4)\n",
            "Requirement already satisfied: mpmath>=0.19 in /usr/local/lib/python3.10/dist-packages (from sympy->torch->clip==1.0) (1.3.0)\n"
          ]
        },
        {
          "output_type": "display_data",
          "data": {
            "text/plain": [
              "  0%|          | 0/64 [00:00<?, ?it/s]"
            ],
            "application/vnd.jupyter.widget-view+json": {
              "version_major": 2,
              "version_minor": 0,
              "model_id": "a9ecd0804a4749c09eae54648201543e"
            }
          },
          "metadata": {}
        },
        {
          "output_type": "display_data",
          "data": {
            "text/plain": [
              "HTML(value='<img src=\"data:image/gif;base64,R0lGODlhQABAAIQAAAAAADMAAAAzADMzAAAAMzMAMwAzMzMzM2ZmM2YzZjNmZmZmZp…"
            ],
            "application/vnd.jupyter.widget-view+json": {
              "version_major": 2,
              "version_minor": 0,
              "model_id": "c002209d5c624ace99a02e91c682c01c"
            }
          },
          "metadata": {}
        },
        {
          "output_type": "display_data",
          "data": {
            "text/plain": [
              "HTML(value='<img src=\"data:image/gif;base64,R0lGODlhQABAAIQAAAAAADMAAAAzADMzAAAAMzMAMwAzMzMzM2ZmM2YzZjNmZmZmZp…"
            ],
            "application/vnd.jupyter.widget-view+json": {
              "version_major": 2,
              "version_minor": 0,
              "model_id": "33422671a4694c95bbfa84d8ad32dd44"
            }
          },
          "metadata": {}
        },
        {
          "output_type": "display_data",
          "data": {
            "text/plain": [
              "HTML(value='<img src=\"data:image/gif;base64,R0lGODlhQABAAIQAAAAAADMAAAAzADMzAAAAMzMzMzNmM2ZmMzNmZmZmZplmZmaZZp…"
            ],
            "application/vnd.jupyter.widget-view+json": {
              "version_major": 2,
              "version_minor": 0,
              "model_id": "aa510c17e12d485fb27e7e4dc753cab2"
            }
          },
          "metadata": {}
        },
        {
          "output_type": "display_data",
          "data": {
            "text/plain": [
              "HTML(value='<img src=\"data:image/gif;base64,R0lGODlhQABAAIQAAAAAADMAAAAzADMzAAAAMzMAMwAzMzMzM2YzM2ZmM2YzZjNmZm…"
            ],
            "application/vnd.jupyter.widget-view+json": {
              "version_major": 2,
              "version_minor": 0,
              "model_id": "6b29a18160a846008372871082e126b3"
            }
          },
          "metadata": {}
        }
      ]
    }
  ],
  "metadata": {
    "colab": {
      "provenance": [],
      "gpuType": "T4"
    },
    "kernelspec": {
      "display_name": "Python 3",
      "name": "python3"
    },
    "accelerator": "GPU",
    "gpuClass": "standard",
    "widgets": {
      "application/vnd.jupyter.widget-state+json": {
        "a9ecd0804a4749c09eae54648201543e": {
          "model_module": "@jupyter-widgets/controls",
          "model_name": "HBoxModel",
          "model_module_version": "1.5.0",
          "state": {
            "_dom_classes": [],
            "_model_module": "@jupyter-widgets/controls",
            "_model_module_version": "1.5.0",
            "_model_name": "HBoxModel",
            "_view_count": null,
            "_view_module": "@jupyter-widgets/controls",
            "_view_module_version": "1.5.0",
            "_view_name": "HBoxView",
            "box_style": "",
            "children": [
              "IPY_MODEL_4780ac7d1c5e49e3b8e7fc2c80f590a7",
              "IPY_MODEL_77fc9fae87da4f02978f2b4247a8341b",
              "IPY_MODEL_806b2dbce53d4d02b45372a6880fd0d5"
            ],
            "layout": "IPY_MODEL_831a18ae9f354dcfb428e8946b5c292e"
          }
        },
        "4780ac7d1c5e49e3b8e7fc2c80f590a7": {
          "model_module": "@jupyter-widgets/controls",
          "model_name": "HTMLModel",
          "model_module_version": "1.5.0",
          "state": {
            "_dom_classes": [],
            "_model_module": "@jupyter-widgets/controls",
            "_model_module_version": "1.5.0",
            "_model_name": "HTMLModel",
            "_view_count": null,
            "_view_module": "@jupyter-widgets/controls",
            "_view_module_version": "1.5.0",
            "_view_name": "HTMLView",
            "description": "",
            "description_tooltip": null,
            "layout": "IPY_MODEL_2f3558ea35374cde9da56295bb771eee",
            "placeholder": "​",
            "style": "IPY_MODEL_798923bc5b854b59ac03d62011d6ed36",
            "value": "100%"
          }
        },
        "77fc9fae87da4f02978f2b4247a8341b": {
          "model_module": "@jupyter-widgets/controls",
          "model_name": "FloatProgressModel",
          "model_module_version": "1.5.0",
          "state": {
            "_dom_classes": [],
            "_model_module": "@jupyter-widgets/controls",
            "_model_module_version": "1.5.0",
            "_model_name": "FloatProgressModel",
            "_view_count": null,
            "_view_module": "@jupyter-widgets/controls",
            "_view_module_version": "1.5.0",
            "_view_name": "ProgressView",
            "bar_style": "success",
            "description": "",
            "description_tooltip": null,
            "layout": "IPY_MODEL_c817bebc78ac42d4876eaf27465b739d",
            "max": 64,
            "min": 0,
            "orientation": "horizontal",
            "style": "IPY_MODEL_0d37d1c5682b460cad3aea8edc237cea",
            "value": 64
          }
        },
        "806b2dbce53d4d02b45372a6880fd0d5": {
          "model_module": "@jupyter-widgets/controls",
          "model_name": "HTMLModel",
          "model_module_version": "1.5.0",
          "state": {
            "_dom_classes": [],
            "_model_module": "@jupyter-widgets/controls",
            "_model_module_version": "1.5.0",
            "_model_name": "HTMLModel",
            "_view_count": null,
            "_view_module": "@jupyter-widgets/controls",
            "_view_module_version": "1.5.0",
            "_view_name": "HTMLView",
            "description": "",
            "description_tooltip": null,
            "layout": "IPY_MODEL_ca69ff019ff14c619117cf381bdb5a24",
            "placeholder": "​",
            "style": "IPY_MODEL_705a172d7f4441a59e5e61710f28019e",
            "value": " 64/64 [03:38&lt;00:00,  2.91s/it]"
          }
        },
        "831a18ae9f354dcfb428e8946b5c292e": {
          "model_module": "@jupyter-widgets/base",
          "model_name": "LayoutModel",
          "model_module_version": "1.2.0",
          "state": {
            "_model_module": "@jupyter-widgets/base",
            "_model_module_version": "1.2.0",
            "_model_name": "LayoutModel",
            "_view_count": null,
            "_view_module": "@jupyter-widgets/base",
            "_view_module_version": "1.2.0",
            "_view_name": "LayoutView",
            "align_content": null,
            "align_items": null,
            "align_self": null,
            "border": null,
            "bottom": null,
            "display": null,
            "flex": null,
            "flex_flow": null,
            "grid_area": null,
            "grid_auto_columns": null,
            "grid_auto_flow": null,
            "grid_auto_rows": null,
            "grid_column": null,
            "grid_gap": null,
            "grid_row": null,
            "grid_template_areas": null,
            "grid_template_columns": null,
            "grid_template_rows": null,
            "height": null,
            "justify_content": null,
            "justify_items": null,
            "left": null,
            "margin": null,
            "max_height": null,
            "max_width": null,
            "min_height": null,
            "min_width": null,
            "object_fit": null,
            "object_position": null,
            "order": null,
            "overflow": null,
            "overflow_x": null,
            "overflow_y": null,
            "padding": null,
            "right": null,
            "top": null,
            "visibility": null,
            "width": null
          }
        },
        "2f3558ea35374cde9da56295bb771eee": {
          "model_module": "@jupyter-widgets/base",
          "model_name": "LayoutModel",
          "model_module_version": "1.2.0",
          "state": {
            "_model_module": "@jupyter-widgets/base",
            "_model_module_version": "1.2.0",
            "_model_name": "LayoutModel",
            "_view_count": null,
            "_view_module": "@jupyter-widgets/base",
            "_view_module_version": "1.2.0",
            "_view_name": "LayoutView",
            "align_content": null,
            "align_items": null,
            "align_self": null,
            "border": null,
            "bottom": null,
            "display": null,
            "flex": null,
            "flex_flow": null,
            "grid_area": null,
            "grid_auto_columns": null,
            "grid_auto_flow": null,
            "grid_auto_rows": null,
            "grid_column": null,
            "grid_gap": null,
            "grid_row": null,
            "grid_template_areas": null,
            "grid_template_columns": null,
            "grid_template_rows": null,
            "height": null,
            "justify_content": null,
            "justify_items": null,
            "left": null,
            "margin": null,
            "max_height": null,
            "max_width": null,
            "min_height": null,
            "min_width": null,
            "object_fit": null,
            "object_position": null,
            "order": null,
            "overflow": null,
            "overflow_x": null,
            "overflow_y": null,
            "padding": null,
            "right": null,
            "top": null,
            "visibility": null,
            "width": null
          }
        },
        "798923bc5b854b59ac03d62011d6ed36": {
          "model_module": "@jupyter-widgets/controls",
          "model_name": "DescriptionStyleModel",
          "model_module_version": "1.5.0",
          "state": {
            "_model_module": "@jupyter-widgets/controls",
            "_model_module_version": "1.5.0",
            "_model_name": "DescriptionStyleModel",
            "_view_count": null,
            "_view_module": "@jupyter-widgets/base",
            "_view_module_version": "1.2.0",
            "_view_name": "StyleView",
            "description_width": ""
          }
        },
        "c817bebc78ac42d4876eaf27465b739d": {
          "model_module": "@jupyter-widgets/base",
          "model_name": "LayoutModel",
          "model_module_version": "1.2.0",
          "state": {
            "_model_module": "@jupyter-widgets/base",
            "_model_module_version": "1.2.0",
            "_model_name": "LayoutModel",
            "_view_count": null,
            "_view_module": "@jupyter-widgets/base",
            "_view_module_version": "1.2.0",
            "_view_name": "LayoutView",
            "align_content": null,
            "align_items": null,
            "align_self": null,
            "border": null,
            "bottom": null,
            "display": null,
            "flex": null,
            "flex_flow": null,
            "grid_area": null,
            "grid_auto_columns": null,
            "grid_auto_flow": null,
            "grid_auto_rows": null,
            "grid_column": null,
            "grid_gap": null,
            "grid_row": null,
            "grid_template_areas": null,
            "grid_template_columns": null,
            "grid_template_rows": null,
            "height": null,
            "justify_content": null,
            "justify_items": null,
            "left": null,
            "margin": null,
            "max_height": null,
            "max_width": null,
            "min_height": null,
            "min_width": null,
            "object_fit": null,
            "object_position": null,
            "order": null,
            "overflow": null,
            "overflow_x": null,
            "overflow_y": null,
            "padding": null,
            "right": null,
            "top": null,
            "visibility": null,
            "width": null
          }
        },
        "0d37d1c5682b460cad3aea8edc237cea": {
          "model_module": "@jupyter-widgets/controls",
          "model_name": "ProgressStyleModel",
          "model_module_version": "1.5.0",
          "state": {
            "_model_module": "@jupyter-widgets/controls",
            "_model_module_version": "1.5.0",
            "_model_name": "ProgressStyleModel",
            "_view_count": null,
            "_view_module": "@jupyter-widgets/base",
            "_view_module_version": "1.2.0",
            "_view_name": "StyleView",
            "bar_color": null,
            "description_width": ""
          }
        },
        "ca69ff019ff14c619117cf381bdb5a24": {
          "model_module": "@jupyter-widgets/base",
          "model_name": "LayoutModel",
          "model_module_version": "1.2.0",
          "state": {
            "_model_module": "@jupyter-widgets/base",
            "_model_module_version": "1.2.0",
            "_model_name": "LayoutModel",
            "_view_count": null,
            "_view_module": "@jupyter-widgets/base",
            "_view_module_version": "1.2.0",
            "_view_name": "LayoutView",
            "align_content": null,
            "align_items": null,
            "align_self": null,
            "border": null,
            "bottom": null,
            "display": null,
            "flex": null,
            "flex_flow": null,
            "grid_area": null,
            "grid_auto_columns": null,
            "grid_auto_flow": null,
            "grid_auto_rows": null,
            "grid_column": null,
            "grid_gap": null,
            "grid_row": null,
            "grid_template_areas": null,
            "grid_template_columns": null,
            "grid_template_rows": null,
            "height": null,
            "justify_content": null,
            "justify_items": null,
            "left": null,
            "margin": null,
            "max_height": null,
            "max_width": null,
            "min_height": null,
            "min_width": null,
            "object_fit": null,
            "object_position": null,
            "order": null,
            "overflow": null,
            "overflow_x": null,
            "overflow_y": null,
            "padding": null,
            "right": null,
            "top": null,
            "visibility": null,
            "width": null
          }
        },
        "705a172d7f4441a59e5e61710f28019e": {
          "model_module": "@jupyter-widgets/controls",
          "model_name": "DescriptionStyleModel",
          "model_module_version": "1.5.0",
          "state": {
            "_model_module": "@jupyter-widgets/controls",
            "_model_module_version": "1.5.0",
            "_model_name": "DescriptionStyleModel",
            "_view_count": null,
            "_view_module": "@jupyter-widgets/base",
            "_view_module_version": "1.2.0",
            "_view_name": "StyleView",
            "description_width": ""
          }
        },
        "c002209d5c624ace99a02e91c682c01c": {
          "model_module": "@jupyter-widgets/controls",
          "model_name": "HTMLModel",
          "model_module_version": "1.5.0",
          "state": {
            "_dom_classes": [],
            "_model_module": "@jupyter-widgets/controls",
            "_model_module_version": "1.5.0",
            "_model_name": "HTMLModel",
            "_view_count": null,
            "_view_module": "@jupyter-widgets/controls",
            "_view_module_version": "1.5.0",
            "_view_name": "HTMLView",
            "description": "",
            "description_tooltip": null,
            "layout": "IPY_MODEL_97f98c81f7be45dabb80eab3275f2c7f",
            "placeholder": "​",
            "style": "IPY_MODEL_e8be8b0baec24dcdb19772f116c67ec5",
            "value": "<img src=\"data:image/gif;base64,R0lGODlhQABAAIQAAAAAADMAAAAzADMzAAAAMzMAMwAzMzMzM2ZmM2YzZjNmZmZmZplmZmaZZpmZZmZmmZlmmWaZmZmZmcyZmZnMmZmZzMyZzMzMzP/MzMz//wAAAAAAAAAAAAAAAAAAAAAAACH5BAAKAAAAIf8LTkVUU0NBUEUyLjADAQAAACwAAAAAQABAAAAI/wABCBxIsKDBgwgTKlzIsKHDhxAjSpxIsaLFixgzatzIsaNHgQEyYKAoYeTHhAcWRDwg4aTHli45HojZUSVNjQca3NS4wObOn0BRCghq8UABohQPCJiJVGIAA0ybPjxgIIDUiE8HXIVY1cDWhwOMfm1ooIAAr2MXZj2aVuGBAwTSwgRQ4ULdCgLfhk1r98CFv3XtAnCgAK7cCwve+g0soYKEqF8lMECgOIBdCRckaCb4GMCBBAiCLnjQs2dhB44tVJjQmLVmCSoh31zwGjaE1xYoVHD8mHZmqz53jq4dobYFzHMLOIiLlLbm2xAcNNaMt21tzRFuTw8e+cF0zd4l3I9+YP26c9i0uV8FL8F1+AcNIESwfrvudQi02wKQUBww8QUQ6Fcbb8/BNtdY1L3GW3bxCUjga7dld2BkEErgXXGaoSXXawMBKN6EkTlWEIYabljdQAxkp59A0xXknQMr7rcZQbSRtyKHBc0ooI4DPQDjjRUEmKONO4LIo1wi5ghijEw26eSTUEYp5ZRUVslRQAAh+QQACgAAACH/C05FVFNDQVBFMi4wAwEAAAAsDgAGACEAMwCEAAAAMwAAADMAMzMAAAAzMwAzADMzMzMzZmYzZjNmM2ZmZmZmmWZmmZlmZmaZmWaZZpmZmZmZzJmZmZnMzJnMmczMzMzM/8zMAAAAAAAAAAAAAAAAAAAAAAAAAAAAAAAACP8AAQgcSLCgQQABLCw4CGDBQoYQAUQQENHChQkRD0Z4mNFCRoMcP4ocSHGkSYEhT35cUFJlxgMHCrj8eEDAgZkvZeKECLPlzoI2B+j8WTCBAAI3iRaEOcCA0oIDCAR4WpBAU6oEoybFCsDAgK1UDwQwMJWrAZhOlS5ICrPszgkW4MptsFbkgZQD4VrYC3djXYYR/IIdGCGu4cIbv5ZdEGFC4AkSIkhoeFCv5QgM1i5QcCCwBcQNJyAA3Jjv3gUOGjjAHLgxhQgiH0uQuzHC6sC3G498/Hmv39atJwyO6Lg0XAcOcwdWKRuyY4cNHgBnHrgC4o0OIDyO8IB58eKtGQd/jnwyOPDi0h1PwEtc+XnGcCeb/Nx6tXTghfeehAvhfgTt39V3kgWTLaAdfvjtlF5g99kHG04Httafbcvh5N8EBAhU24Mz/acbYYz9NN1AqHE402qOFRTiTiMS5sBPt6UUQQNEMViQA6uJWCFBO3bYo4YmutRYkE+1xtVAGe4UEAAh+QQACgAAACH/C05FVFNDQVBFMi4wAwEAAAAsCQAGACYANACEAAAAMwAAADMAMzMAAAAzMwAzADMzMzMzZmYzZjNmM2ZmZmZmmWZmZplmmZlmZmaZmWaZZpmZmZmZzJmZmcyZmZnMzMzM/8zMzMz/zP//AAAAAAAAAAAAAAAAAAAAAAAACP8AAQgcSLCgQQkXDCpcyLCghIYQIw58KJHghQwWKgpcoLFgQo0GOoocuIDjSJEHEJwUqeBAyJUSDxwYUABmTJkCbEbEWVMnw5QEDvhsqCCAAKFDF8okMCCp0gFMnSoU6lKqwQMCCjS1SrDAUQJcCWYVsDUsgAMBkGqkCLKqxgAmJUqQUFLtRqUSKpRlaKEChr4VJihwaIEuArBzA7NlWMFCX8d9J1Qg2LgCApkHJGR8CbGy48aQKziYSLdk3sUN5z4GXcHz5JIMHjiQAAF16ryFP0N+bIFByQgQIsy1PVW45sqSefdtUHIB7eHEHZ4O7Ho17eYLjM+NCL2Cas3HJUvBiFDyAYPn3rl7916YfeC+FCaUftDgwfAJ3Lsnnr5fguzaiU0G0XDeJSYfePr5N1xhAyrY32kJemfaXz0x5B8Ezj04l33QzWVXg849oN1wI0IY3UIFRuDAA8HRBlyC22nkmHAJnCVAbdpVAGBt9nUEnkH2ATiXcC+KFGNBpglXYHDOOeXgdiGeOJKQbC1wnlPGCSiQfxE4FVxtBEVwZVJ0zcWZglINh+SRPnEIJF1OsnmWlCO5adZE6d0JgJp6ajZSQAAh+QQACgAAACH/C05FVFNDQVBFMi4wAwEAAAAsBgAGACsANACEAAAAMwAAADMAMzMAAAAzMwAzADMzMzMzM2YzZmYzZjNmM2ZmZmZmmWZmZplmmZlmZmaZmWaZZpmZmZmZzJmZmcyZmZnMzJnMmczMzMzM/8zMzMz//8z/zP//////AAAACP8AAQgcSLDgwAwHDCpcyLDhhIYQIy7MwECiRYsVL0KkKDGjxoUUPGTo+BHiw4gMFpRcOfAAgwQsWR6YmTDmR5oCbN6cGUCnxgMIDhjwiXEmgAFEJc4cQKBm0oYzDQQY+hTqgalIqzI8ICChU60GDxQQUADsVrI5S3r8yfXrxZMfK4pdCVejXLcOKTKoe5GBS7wMLWSYcADmxwyCBSOWOKExg718GyLOQHny5LUtOTjeG6FxxAmKE1NOTCEx3AMd9DKAMEFC48gFN4C2HLqyaAsTKE94zHtCZ88Tcc++PVlxZcSbe7sGzXDwawsULOe+bQH34AgpFaxu4Bu4QdOgJ2DpyD07d3TFpV9DYOAgguvlIxUKft34Auj0iC1UGKwft3Df7UFmAWAAhGegfxXYBx1y/D3XGAG7NWaBBoGlZ6CEoFUg3H8XErjQhRiGeCGHzGlEH33+iRjeb95ZdEB4Erjn4Ikkgubhh6+5FwFrJ67YmIy+ldSaew1I8NhyIiL52kq4radeA6yxFmOMJ0JAF30AQPDABDk1xhpkGLK2EnKEMaQjlQBa+RF5sBG0F5hZMvCAkJQxNgFrKt2ppllZYjnBlnwKFCFzq+0VaIE8CvRYi1rd2SKjVcF5aEEyTmrQb3taWiCkh/54UUAAIfkEAAoAAAAh/wtORVRTQ0FQRTIuMAMBAAAALAYABgAvADQAhAAAADMAAAAzADMzAAAAMzMAMwAzMzMzM2ZmM2YzZjNmZmZmZplmZmaZZpmZZmZmmZlmmWaZmZmZmcyZmZnMmZmZzMyZzJnMzMzMzP/MzP//zMzM///M/8z//wAAAAAAAAj/AAEIHEiwoMGDCBMqJChhocOHCTFAnEgRQMOKGBU2yMjx4IKOEDFIRLjAAEiHGTgkRPDx5EIKBQ4eOLDggMuMCmYeGHCz4kwEBmL2nKhzgMmhEHUeCIA0KdAAR5suPKAAKlOpUxEQMIp16gEBBXh2TTizgAACHFtmnAlWLMaLa20eiFpRgt2aPr+GTVsBgwQMNonuDNpRwoQKEhYsgOt1a+C3fu9KgGDXYc2ZCjJyECnhgeIHdisrVEwTQ9++jBN2wLDhruLFoEUjtCuyb23TuE8z3qChdeLXix3YraCwwgbcpo+LRG4bOW67nl+DpqxQ+enb1ytMyF1bO2LXsIdH/3x+nflt8xIuDO8MIQKDCLQRskYtAbHf09v/oiZ/OLTdAb8loFBt/tn3V32mHbadd/etR9xEzxVYn371UWBahd/5l5pDpyEG33f3KYhYBRRYsN56PtGX4YTDUTDiBCf6hxZFw0UW44oxaggBRhWgtuKIDkoYGgQP1sVijhp+911sG0JEX2ixUTahknZFIGWRb50ImmfwwafhZKFVoFaW/j3ggJmeUQaalWz6B9KQbLbHAJqKTWZlA+2pCRJi0blX5ZgDdXamBO4VpuFD0EFZGJAQdebfYo9RdGEEVyG6mKCgZcRZXUwCcECTDiFY0WKXvolARo6COlag062qEKGyuQpqUGiyJqTqQQEBACH5BAAKAAAAIf8LTkVUU0NBUEUyLjADAQAAACwGAAcAMAAzAIQAAAAzAAAAMwAzMwAAADMzADMAMzMzMzNmZjNmM2YzZmZmZmaZZmZmmWaZmWZmZpmZZplmmZmZmZnMmZmZzJmZmczMmczMzMz/zMz//8zMzP//zP/M//////8AAAAAAAAI/wABCBxIsKDBgwgTJlwgQaHDhxAvQJxIseCEihgnNszIcWHHjwYXKAD5ccPABQsEkMyYYeABlAFWVrxAAICAAwgOGJDJ8YCCAwcG8MQIFAEBoUMpAgVaM+nEpQKQOn2IQMGAAk2nOjyQ4KbKjBs/Lg2wk6MECWQZZMRpIMCBjhMkVJDb8ECGChCBti37UcIFCQsK/GUY9iDQAUdJzo1LmOEDCW8N6yQb82MADhrOnkWpOXJBqAX4cuSAQcNfwCghRDgr+QBZqRkrZDC9GeWCCBAKE1xqYIBnjAs6mJ4LOIECCIQXLk1QUO6FCs+jQ59+oXoFChbOPuC8Gi9ClL4jSP83bb26X+jln1eYQFwz6t8GAT+uTp569PvoqdMlTnEuffvpQZeddH/91Z53E11QX3TOUTcgdH6dR5dmGCmoIITUoXdegdOxF1dnFS14FnEcnsfeesRdl+ICFV124XOazbWYjBQYiJ17FFb0QHk4xhihjCNOSBx8D/nFI44pnpWdXB/imFEEFUwH5IRCBknlY2YxaKB77fnYo1wc5YYiklxSSRxurPUk3X5ltqlZdx+RiONjdOK4Gp25gfQjXXXexkAEdaoGQQOq6YbRlO75uZ1ugEnwGJEVeenopA84gJCTfbmHWwQMSGBpQo4SZihFmi2wHUMRsOiQdqP2N2EEkVYo2qpG7WHkKJZxUpCmrZR29BcEolUkqppzkbRrRQf8BZtWCvnF7EEBAQAh+QQACgAAACH/C05FVFNDQVBFMi4wAwEAAAAsCAAIAC4ANgCEAAAAMwAAADMAMzMAAAAzMwAzADMzMzMzZjMzM2YzZmYzZjNmM2ZmZmZmmWZmZplmmZlmZmaZmWaZZpmZmZmZzJmZmcyZmZnMzJnMmczMzMzMzP/M///Mmcz/zMz/////CP8AAQgcSLCgwYMIEwLQQEGhw4cOKVSASLGiwAYNLWpUeCDjxo8GPYIcCaDBAZIoGTRAOVJBAwYBGnBgafHAgQYJNHhYSROiyQQHNEzsCdHmzQMCiFI0eiCA0qJGDWgU+dHoAAIaD0igkBEjwZscqA48oABmUo0CKlC4sJYhhQMFBDTQwPYgA6YfTQLgSgED1wYIMFLAyHPsTQEBpI7s25bvYMEFFRglMADlWg4eGF5w0KBBBKpWKbP84GGDh78quRYkYFRAAZQeMGug+1jCBLFGE5OkkDkzX88QJBxsHffjhdl0NTsuXJCp64cNjkufPX0t1wsOmQY4aTBC8uMUqIv/p31B7dvsNg3YHNj2OPLv48ErF2vQQOcDA4BnRj7dPd0K/yVnHX0HdWZgWx5Mlxx8bJE3IIEGCcbVfuK5ZyGA8oXnWEVr+ZdZB99VR5tybA3I4WweZJAZeA1ypdyL1/HFHUS8odgfX+U1yFaOD6pW0XEU0lUijgMOSeRWFgGpU3WOERmjkWtZ9J54fG1V4pVNsnWbRu6tKOSOTjrJ1lbCJSmkgG412WOJEzgwwUYHuBceizGqyaZttn10pnVQToCnn7d95qYDECqkYYYDfvaZZw1R4CZXnxn33wVgQkpBBBB4RlCbn2350ZwW9CjBAxJEkBAFEni10ZUVDKlooRT4Q1loQhBgyddnEDwUa54bSQgpRjMqJAEEtzFH0XKd9UrBAqsa+VREyj3rEJimSpuQhNY6RFu2Cs1mLLcEuQUuQuGBGxAAIfkEAAoAAAAh/wtORVRTQ0FQRTIuMAMBAAAALAYACQAuADcAhQAAADMAAAAzADMzAAAAMzMAMwAzMzMzM2YzMzNmM2ZmM2YzZjNmZmZmZplmZmaZZpmZZmZmmZlmmWaZmZmZmcyZmZnMmczMmZmZzMyZzJnMzMzMzMz/zP//zJmZ/5nM/8zM///M/8z//////wAAAAAAAAAAAAAAAAAAAAAAAAAAAAAAAAAAAAAAAAAAAAAAAAAAAAAAAAAAAAAAAAAAAAAAAAAAAAAAAAAAAAAAAAAAAAAAAAAAAAAAAAAAAAAAAAj/AAEIHEiwoMGDCBMqXMiwIYANFBxKlNhgw8SLDC1i3HiwQkSOIAdSEBAyZIMGJU02MLCQQgiUKQk2OHBSYQcQHWIWZKCAwYEBBw9sgKlz4IEDCo4WFagAAIUDCBsIWKC04ceCRAUSOEBhxNWCAY4eJcnwgIMGFNI+pYDBo4SfNClE+EpQ7IEAEtNiQMCWAkQMatFSQIvQLlmHRPu2FQGRQobBEgofSHCAAEi0FRiHAJH25ISoR5Me3ngAJwgOgE/SNXrAZ4HRGDeAYNyYQuSEoQ3g5ci2w4YMgNMuTHqggAGgGDFs2OABg4XHGMoeHbB1ItvlyiH+XW3Q8O6FaDdk/8cuvm/DAwbEWlaovD327G2DO4R7QADU7vCXi9ffVryFp/OJFQBLBF23H3nlZVAeYNEFeFR6BMl2oHvKKcjWc2pJdNRMYQmWHQgT8nddXxlSRFNcbIGoX4j9sVWBc/JR1MAEqn0oW3uA/fWXBcGViJhaFICo4n7OQbddW3r52BBa4y33gYQMAtljj7at5xABfgmpAYjuSZlkcD1idJ2Qy4GgHIlAeplWBMmtCKV4Pc4VJZVziakcmeRVoEGafE4gAY1iHlhml1Gi6ScFh25EpJnkoalWBHNFptZnbcLH43YkzoVWAw8IJJcDG/lFpI5o/tlABE2JhGioGHS5IJBz3VxXYKQYHYDBBTj6pStgEUDApkGCCXdRX9opptafC8k67Ig5PspdUQ+QGGWdSx0UbGBZVYsVkKdqqxCa3rJnXrgJnfksuU6Ni253fim7boQYZPuup+LN290GFegUEAAh+QQACgAAACH/C05FVFNDQVBFMi4wAwEAAAAsBgALACsANQCEAAAAMwAAADMAMzMAAAAzMwAzADMzMzMzZmYzZjNmM2ZmZmZmmWZmZplmmZlmZmaZmWaZZpmZmZmZzJmZmcyZmZnMzJnMmczMzMzMzP/M///MzJn/mcz/zMz//8z/zP//CP8AAQgcSLCgwYMIEypcyBAhBgwNI0p8KLHiQgwSLGo0eADDgo0gBUrIGBLAApISG3wE6UGDhwwJKi5YqfEhTYEHFmDwkFABggUKLB5AOXBAgQEUEx44gOCAxZEVJBxgoGDpUKIGFxyo6vSgBK0jw0qogDGqWAkPFi5tijCAAQYSLCwgMHZC3JEeMJi9eXCBgKULb56MWkFDhw8Pv6o9kGCAAY0jOxjWKwECQ6sDNkr48LKD3YZWDxB4SvYhYdBbD2SWOFQvZYwNuSIgIEAi2dIVJlSo3bCpAqMNyU4w7RqrwtC8FWJ0XXqscaVWCyTPipt54gqrL2MugLD6w+K5KwT/Rb3UQHaC1TvcxqAb40jWA5YSOA/Ae2nwYVkbsDp6YOkOxIE3wQXOsYZZVycB+N0G1pF1loE57TfYfxh0cIFeuoVF2HsGNnWVBBV+xxwFuZUllkw5zTTWdxUAqJ57UGn4nEIznQQVBhyEeKGDZvXIoUxj3RfiixtCICNakIH4kHoKhkiZBBGc9aNEUJGloIsrOhdjBBBwqVGU610ZIo9iPXDVY6RNICaLGMaYFgAjdVXRikJaWByBe4lUmUYnNcicbmYpJlCXMy4UlZ8gVkCBBSNZVtJAibrGXJYjRfAopFla55xZlxLkXHFlwfhmpyZtmqiPhYZk46d1jcQXqV/ZLxhoBa/CqtgCDoRlKakLJbAAp7wuBFWtwXqqaADFGorBeMkiFGezCa0IbbRJNRQQACH5BAAKAAAAIf8LTkVUU0NBUEUyLjADAQAAACwGAA0AKgAzAIQAAAAzAAAAMwAzMwAAADMAMzMzMzNmMzNmZjNmM2YzZmZmZmaZZmZmmWZmZpmZZplmmZmZmZnMmZnMzJmZmczMmcyZzMzMzMz/zMzM/8z//8zMmf+ZzP/MzP//zP/M//8I/wABCBxIsKDBgwgTKlzIMOEFDBcaSmxY4ELEiRgTGrgQIONCDxpALjgY4cJIjwMXRMgQMUOHCAojwEQJIECBAxc2Xly44CRGA0ANIJg5cYEChhEoSKAgU6ZKChkFJEBgoKCBCFdlUrigVYKFCjI9LjCgwOYCBk27dqXwwQNLqBnHBgWQ9WQApkxLaujggSvKBQOqDuxoUMADthg+MEUJtCzSrRYXMwaK9AJkpoTjCjAgIObWz34nU04I2TJXuH8NJOh8cGvJ0hFYewwquGBJ06Y/0zQwFgEB26AvLyWakbZsga8tXqhgOqlPjFLnDkwaGXdz4j+lI8cd/DT2iQYGFPswQHgBhdIdqisNi3K8dJkWN1hOn5u9xwC0CwCgbpH+dckejRdYeElF0AF6luWVFE10ATUWfxekx4FyCn4HHlkJZAVaf65pZaFEvPGmVX8RWlBfUwwC0BME8FFAX3rpuZZXij299iKJn3lI44gk3njdhxIR0FRpJFZXoAMp7lfgfJB1YOJ5KCY54oa5eZfkdNR1Z5kEXAGZUVJcXpabBQVeKZADEVjgGnfeRfCbmVNy1ZyVZirp4XmnzVgncmBaIAF1Ou5JV40FemhfnQuwCMBmPS3QwAMRPAfnoQIRKqhCT6F2KUkUTLBpQlp9CupWoh6kkkWlGnTVTgMFBAAh+QQACgAAACH/C05FVFNDQVBFMi4wAwEAAAAsCQAPAC4AMQCEAAAAMwAAADMAMzMAAAAzMwAzADMzMzMzZmYzZjNmM2ZmZmZmmWZmmZlmZmaZmWaZZpmZmZmZzJmZmZnMzJnMmczMzMzM/8zMzP/M///MzJn/mcz/zMz//8z/zP//////CP8AAQgcSLCgwYMIDVr40GFBwocQIS7ogCECwggXLFiISFBjRAsYOGp0+PDAgYkWJXIcKGEjwgMADgxIuXLlgQg0CZpEkGBBzpoRFUQwIBAnBZwTcEaYIABozQUOfSa1gLODB6oFnK6MsODmUglTOWDoYIGk1oMRGCiF6nMp0gwcMkyAefagSZxR6RbVyIGDy7oG9Qo8SRCpxglmASfsWnjqBKqKIR5QoDfC4cORJSOAWWDpZciZX5oE4Nny49Oh7U72auFxa40/Uw8+KfW17QmyC5q8S/W2x9wDdx6Y8JiCb9zAYxK4K6GC6wl+fwMfsNun7egcHic3EGC3Z9e3Y0e/PmDAO3gNFvxmFx+5O/Wb4PnC3r4bvoUN6SscTgr8QPeTnr2mHlXsKWaSArWlx9dpyOW2mmGPYTcfcF0lKOF+ybEVoIIK+lUgYABCyKEFzv2VmwNKnfYafq19CFgDELh1XG/JCfSAiCq2WCMAMVpmWm+nuaiYWyqqaNmOANz4VQU+TgCWkID1SKSMOCHJVYpKRQDBAzHuGIEDbIV5EgIoeunAYkfWWOVFbqn5IU4mIhmYZ4LJWdBSA9ip5556BgQAIfkEAAoAAAAh/wtORVRTQ0FQRTIuMAMBAAAALBAADQAqADAAhQAAADMAAAAzADMzAAAAMzMAMwAzMzMzMzNmM2ZmM2YzZjNmZmZmZplmZmaZZpmZZmZmmZlmmWaZmZmZmcyZmZnMmZmZzMyZzJnMzMzMzP/MzMz/zP//zMyZ/5nM/8zM///M/8z//////wAAAAAAAAAAAAAAAAAAAAAAAAAAAAAAAAAAAAAAAAAAAAAAAAAAAAAAAAAAAAAAAAAAAAAAAAAAAAAAAAAAAAAAAAAAAAAAAAAAAAAAAAAAAAAAAAAAAAj/AAEIHEiwoMGDCAdOEAEiocOHCUFsgEixIoMMFTM+PFDxAEcADBpqHAlgQgYNGRhcJElygoEDJiewHBlhgAIGJmdmnMCzJ0+dDydYoGDB5IcQExgATQjTQoULQjmAcKB0acGeQ4sKDZFSpVWBAXgq9ckzwweVH4EeUFnUoFCTBxYwSDuT44EEB3kWRVtVJ123Ji0kiPv3K0EIZQ8o8IjXsEGcFqAi8NjUMcGeGQRTXkDhg0zLiItaoKzYKEbHOHuSPiDBQubMjvVO8CjAIwPXZjOcthpBgtgAlAfkzm3hq4QGPV8C8IhbN2yrOBFPIDCAsm4PGbBn+AyUAWLEAQwUwKjdnDj0CA7QU6fsukMG9x+KL107AfFyAQVgZsCgm/+Hrwwch9MB+R3gmgUfDCcfUEklBUFtByAglG4JfrDBbjqpBAFf9FHoXIJL9ZYUXws09VqCz+nUoEwqtajXa7gtFZYEA2mI1Wuv9aVTAAPRd+OBmS1oGATpvfWaSdtZVpJ0EwZmgWtKAvAAk0D6pCQEU8r2Vk9K1ueTVi3SGNsEWQpYlXc/DflZYalhuNQEYiL0omE88ZhQarFFqeeefM4UEAAh+QQACgAAACH/C05FVFNDQVBFMi4wAwEAAAAsEQALACkALwCEAAAAMwAAADMAMzMAAAAzMwAzADMzMzMzM2YzZmYzZjNmM2ZmZmZmmWZmZplmmZlmZmaZmWaZZpmZmZmZzJmZmcyZmZnMzJnMzMzM/8zMzP/M///MzMz//8z/zP//////CP8AAQgcSLCgwYMIB2L4kLChw4QdKjycSBEDxYsYM2rcyPHiBIYIJxzoaJDBBA4ID2TAYJHkBAYADgyA6ZCCBI4TIAw4cMDkwwkTcE5QkAAC0IlBNxoFioEDhggNey7AiWGChQkdNLQ82JMBTY1ALVBg6aFDwq4Lvnq8ANSqhQ1OU3plMPKiSZNX21pgiZABArpqHZpMKjCs26p1B0rlSbEnhcQA9LLcu5fgggMJDlyeCHkgg6VVMVAWDZOn6c4pD74MG7o1S550GXdcarXqBdGiL5yWzXGw4b0TcAswvdNCRwYRJLRlC1z0gQA8CSSojDNCW8nBAxiQub3pcQnJrefwvWrhgIACzw/s3ZoxggP3E5TrFand/IGmGAhwhIDcqPXrOj3XHX44MSBBAxKYRNsEBAxXgAAc7MXBABu9ZKB1EDgAQXIT1Fccfiht5BWCJN7F4AAFDIhfYBS9xF9OBiIYwQDbHaCAhJNVyN9dXmUIQQIEMJDAAsGtx55dDDyQk4XIOQCYV7VRpiMEns2VnAJeyTdaRkBBoGRBMSb4WVu4EdbiUqp5CaV4lFlAYUZeqSZjgmQGlxNJBrWl4G9x4lnQkqvpeZefBFkYn3USKKAXoQIRIKiTA7XFaGTxNWTApAeaOalqR23aUKeehiqqQQEBACH5BAAKAAAAIf8LTkVUU0NBUEUyLjADAQAAACwRAAkAKQAvAIQAAAAzAAAAMwAzMwAAADMzADMAMzMzMzNmZjNmM2YzZmZmZmaZZmZmmWaZmWZmZpmZZplmmZmZmZnMmZmZzJmZmczMmcyZzMzMzMz/zMzMzP//zP/M//////8AAAAAAAAI/wABCBxIsKDBgwgBTJCQsKHDhBgwPJxIUSLFiw0PYNzIsaPHjyBDLrBIkeHHABgmVOwQEsAFkxkRVGgpYUHCmgcIHNAI8oDNgwse4Bwg86PPBT8NSnAgQYLPpjw3+mygIGlBCQ+ESqggYQMHjjuRLlCAcIEDCA0sNNWQ4SvGsFWjKtXKFQNbtxTDLjiAoOGCpoAjYiBwMexOuQebVpjAtUKFiDUfHt6LWGkAwIoxONaMAaZBn4crE1yoMwKEpp1Tcn7MWrNTAKF3NmwqcEEEwK0lcN4d8bGBAaH9Dqz5l+tWzRNSt36MocABAwcEiB5oFcJfzFspPNatu7WAAsDBX/+MsADCbcUS1FZQi5z1gQHQpV9EK/Q0dvTbNQ/QGUD2xfINYIWdcfg5FQB0BAyAUU3mWWfaeehhZsCBwB2gAUYRMEAeVg480KBpmEHw3X7AkTRRUB2W91eGLK6I03c7PXbhRRJY18ADDViHVY6mCbWXTgco0B1GfyHFAI7mMSBWTeS9V9Vfmm2ElVgN3hhUjkUWINZmGBHQlFg5NiAWUlPuRSZqGCHwgG0MUDdmkcTdiN5bGT5gUAJIPcCUj3puVUGbNKLlGUFNaaWnUFpRQOODENykYaEdMrUVjRo68FCNOUoAIm0tGXSboAs00GlCp0UwqkOaDnqqUn+tOtuXrs4HFuustA4UEAAh+QQACgAAACH/C05FVFNDQVBFMi4wAwEAAAAsDQAIACsALgCEAAAAMwAAADMAMzMAAAAzMwAzADMzMzMzZmYzMzNmM2ZmZmZmmWZmZplmmZlmZmaZmWaZZpmZmZmZzJmZmZnMzMzM/8zMzP/M///MzMz//8z/AAAAAAAAAAAAAAAAAAAACP8AAQgcSLCgwYMIAVSokLChQ4cSGD6cSFHggYoYM2rcyLGjx48DF4DUWOHiSIoNJpysGEECQokrBQYQeVCChpgABDxYoAAhAponFwgVWlDoAQIDVh44IFRB0oESJCxAQOCAy5FLhxKM+kDqAQQUsDJVgMAkgKgSIKCVQMFCho9Lvy7d+qABhJYTKFS48LZjXAVzoUp44EBtVAoZMMDUGDfuVgkMInRFq1evWYyNAxMkTJlyBb2fQ1cW/RnogMwJF3TOS7pCxNCwQQM4OsDAAQEBGlJYy9a178oTYi9EXEHAgQKnCzyMetczhbzB9faOCDpDAAMDqgp4qFoo74hsw//rlq7XwPXkEyEIbR5+N/jduydMr1BAQAHzBiZKiKCaQdrva8GH1gL2GaeZQ+otEEFzXS0I4FoJZCchRhEwQFhXqjG4n4b7LVBfAUxhJBWGg3U3WFoVLrigUQcMoABQFEk1mAMPRLYABHY1sBOOkeEYF1EYEQDZigtcOKNQOl64E1NdaTTgAjoq2KNQNabowFBRbcTVUBZKNZR3F1LZwFUiRvUllDh+aeSMkznZpkEEWEhjVA6mCCNFVgGJkARz8jnZnRUNFoF+dy1gIUcm6teSR2tBwJ1qHw22k35N4tTQhpZemmWmnHbqaUIBAQAh+QQACgAAACH/C05FVFNDQVBFMi4wAwEAAAAsCwAHAC8ALACEAAAAMwAAADMAMzMAAAAzMwAzADMzMzMzZmYzZjNmM2ZmZmZmmWZmZplmmZlmZmaZmWaZZpmZmZmZzJmZmcyZmZnMmczMzMzMzMz//8z/zP//AAAAAAAAAAAAAAAAAAAACP8AAQgcSLCgwYMGLyBcyLAhwgUKHUqcaPAAxYsYM2rcyLGjwAALPHa8EFFkRgkSTGpc0EBlRgEJXGJcsECBzIkHaIa8KTFnTYYlZR44oGABgoU5g6o8gGCBRaRDbw4l+tSgBJoAqqoUcCDBAK0DUT5w+lXoUAVgAaBcq/MChqVTBxRc+2CthAoTLmgQeYDrgQJW6zKIsACC3QxKD16osJhkwQIDCJQtuABlBAYSIhiugBLDYgmNGYsmybjx24F+Dci1KgHC5QhrOd8lTTvv6NKl3/4VEOAAgYMHrgq2e0HCBNB4izdGfmFChdEkDQQwUICrxMp2OYtmfNe2c+V3Z/ftrZ52YesIDzAbR0kBr4XwxbWj5LxAsuTy5iEsIHzcbvj5/rF1wHQF4GceTQ/ABmCADF51gGpoYSQWA5UZZphmmbkmQV0cblhTbztJuN8CDziQoGEdugZBAyU+0IB+TmGl0VUr1mViAwy0aKKJJN44Fk0RcCSciTW2uOFVNF3VWgM6hXjSZXUVxtJYSjbZYYse2UXYAjlW9iOCDsA2mGtZqogkTS8yqVNrlkFgYkfB2aUTQWwqqRmPWR65oUN17ZnnhVdJhJJJgyL5gENHysSmA4hmJhNs+zW0oQMpmRScYZUyhF1MhKIkI0+gShQQACH5BAAKAAAAIf8LTkVUU0NBUEUyLjADAQAAACwKAAYAMAAuAIQAAAAzAAAAMwAzMwAAADMzADMAMzMzMzNmZjNmM2YzZmZmZmaZZmZmmWaZmWZmZpmZZplmmZmZmZnMmZmZzJmZmczMmczMzMz/zMzMzP8AAAAAAAAAAAAAAAAAAAAAAAAI/wABCBxIsKDBgwAuIFzIsOFCCQodSpx4MCLFixgzatxI8ADHjwMvYJAAkqOEBSU5NniQcuMClC0zLlAQU+bLmhcPKICJU6KAAzd7SiwAVIBQiQeSSrQY8+cCjw0h9kyqNOoCBDUDGEg6wOGCAgYCxAxb9eHJAwMMxDwggGjUBw4efIWKtMIFpgLbpu2K8ICEv3BPOpDK8IJdw4ZJDjygVavZvxIe/K0ggXKFxZUR2918t0KGxWHDIvwLIbIDCBEYQL7wt7NrxBM0s86QtO1PhhIiAI6bW8IEyhYyQxxu2G7lCZX/JtVK9yBkBhEgNCg9OTlrCRaMW6DwGyJlyAts8+esCD465PN/gw+vjv5vhAQHtjossFM6UMioIVNmjfx78t4PMPAUUBpJFtlLBrZ3nmQBRhDBSwRqBB4ECEpAHXUMOrBAdAucFNRGgDXQIXSR6ZbhA3JBJx2FEXyUwF8LyJVadAw80ECNMG7YoWQdgmRhag1CB+SML71kYW8pwbgSajW+pGKR+cXlQJK7GfjSg9IZOV1kMZ1HXYxFknYkjDFRRkBvkSEwHkHRxdQhSWNG1WJLgAGAJm6l0UkmBHGtWZAEDShWEmkCRTcdbn5+xNNuRzkUGEuNLtShbmJFOpqFiVoq0F9CBQQAIfkEAAoAAAAh/wtORVRTQ0FQRTIuMAMBAAAALAoABgAwAC8AhAAAADMAAAAzADMzAAAAMzMAMwAzMzMzM2ZmM2YzZjNmZmZmZplmZmaZZpmZZmZmmZlmmWaZmZmZmcyZmZnMmZmZzMyZzJnMzMzMzP//zAAAAAAAAAAAAAAAAAAAAAAAAAj/AAEIHEiwoEEAGTAcXMiwoUOBCxQ+nEixosWLGA9KSJixY0EJBzyKFChhwUiRB0ye7JhypccFBlxmPNBAJkYBCVTarHgg5E6LLX9S7OlT6MOeRiceEFA06UIBBZBalHhyaYEBFytQFUlggIECF0seCCBywNiYQBH0FPAQg1atBQlYDbtgQU+wC99icOuWoNcAaClKkAAhAgO7B7YK3KuXL9wFcgFbHByh8ODLFQY3luB2QmbPYr1OvgzBAWYJEzoPtqCVc+vLCxQEaPrwsoTKDxpA0CyhAoUKEy6g7n1awgOYOmsbJ+zggQPLgz17xsC59wTblRvYDXvZ+QPbmYsDwKdggXSD48knUh/8fYFtyuCx715gOPdFt4Pp24aAHjr75XUBmBFZBNnm3QKFJajbggg2MNhKxLG3QAMMGGZchYUFaJxLAQy2W0nHGdfceYchGIEENsHnHQPeleTeAt8RZtMBhLF3XnMuhiiBACjaRMB7EOhmXF0f7aSZSR6e6EB6G6aY2UC2afSgTJdB2Z6URlagU5VOQcklAEN26eUDRUlQoZgA0FiBAwSdCAGaALhXkGVwanRmnQXehudHPdoUEAAh+QQACgAAACH/C05FVFNDQVBFMi4wAwEAAAAsDAAGACsAMACEAAAAMwAAADMAMzMAAAAzMwAzADMzMzMzZmYzM2ZmZmZmmWZmZplmmZlmZmaZmWaZZpmZmZmZzJmZmZnMzJnMzMzM/8zMzMz//8z/AAAAAAAAAAAAAAAAAAAAAAAAAAAACP8AAQgcSHCgggoVCipcyLDhQgwOIx6ISLEiwQgWBFjc6DCCRo4gFSpQELIkQZImTaJMGXIky5ICVr60GGDiTI4GbN6seCCAgZ0WBegE6tDnUKIMDdREGnEAgaNMCRIYADXqQKcDrCY9QKBkwpA9D3wEGaHswggVJqStoPOA0p8hIyw4gKArwQtq106IAOCA37FkE/g9kFVg3rxoy0ZQcKCASbkQRg5WW7ZCBAoT9u5lDJhj2QeLQ0eQoHZvYtMjSVaNqBgCaMUTJJxOLDvCAwUDHpBV/ICBbdgRYpsOnnji6obEP0dWHNxy2eGLBR5nyDsCg9fJmUdwoMB2ytbbGzib+Hyd+fjuLCkw766YuwLXrq9D4JsSIWrmvR0sgL+gu26WF9SWnWvv7bfAeBDsBB1oD0DQ33YM+AeUdvPtpwBoKNF3k2nYnbcdSa5NWBZ8ZY0XQQMCWTfhXgNp16KGMyl2UYP/IWWAWQTNByNRBwRXEIZWyUiQfEHiOBBoCxRZo0DzJchUjxM4OdB+SwJVgJEvyqTVi1uetaNJAQEAIfkEAAoAAAAh/wtORVRTQ0FQRTIuMAMBAAAALBEABgAhADAAhAAAADMAAAAzADMzAAAAMzMAMwAzMzMzM2ZmM2YzZjNmZmZmZplmZmaZZpmZZmZmmZlmmWaZmZmZmcyZmZmZzMyZzMzMzP/MzMz//wAAAAAAAAAAAAAAAAAAAAAAAAAAAAj/AAEIHEiwoMGDBwNguICw4UAJDBseWODw4AEJFTMixKix48ADHkMCoChS44EGJTUuIJmypUsABwS8lFhgpkUBIG0WDGAgp06BBwwE+EmQ5wCiA4UaQCpwwIGaSA0UELAUqVGoRA8cIFCSIwAKFsBSAHrAacmwByyoBRsWgAMFW7taQJBAq1gLEihI8BlSAgMFTsuCnaBXAksAewEEUHC44IIHKyMfcKAXr4TLhS9T5Ov4suYHnitICKt34ugJXBsTfOy5NWYJogcWcKDSMwQJDxzkxdzS9WXQu1V3xL378m3jwjP6XiAhgmHmEVL+ljDB+G/myStKuA32snPNEHo7YA9reXsE5r09l0fuVeTr4hCcg+6t93hrCA6iS2/9AAJw51i559lADdx2m0u7FQRaBJz1lVdBBbbXlV4KGvbSgAQx4NyFlxm0HYcSAhABbQhSEF5B8YHoYYh9UVhQhyIFBAA7\" />"
          }
        },
        "97f98c81f7be45dabb80eab3275f2c7f": {
          "model_module": "@jupyter-widgets/base",
          "model_name": "LayoutModel",
          "model_module_version": "1.2.0",
          "state": {
            "_model_module": "@jupyter-widgets/base",
            "_model_module_version": "1.2.0",
            "_model_name": "LayoutModel",
            "_view_count": null,
            "_view_module": "@jupyter-widgets/base",
            "_view_module_version": "1.2.0",
            "_view_name": "LayoutView",
            "align_content": null,
            "align_items": null,
            "align_self": null,
            "border": null,
            "bottom": null,
            "display": null,
            "flex": null,
            "flex_flow": null,
            "grid_area": null,
            "grid_auto_columns": null,
            "grid_auto_flow": null,
            "grid_auto_rows": null,
            "grid_column": null,
            "grid_gap": null,
            "grid_row": null,
            "grid_template_areas": null,
            "grid_template_columns": null,
            "grid_template_rows": null,
            "height": null,
            "justify_content": null,
            "justify_items": null,
            "left": null,
            "margin": null,
            "max_height": null,
            "max_width": null,
            "min_height": null,
            "min_width": null,
            "object_fit": null,
            "object_position": null,
            "order": null,
            "overflow": null,
            "overflow_x": null,
            "overflow_y": null,
            "padding": null,
            "right": null,
            "top": null,
            "visibility": null,
            "width": null
          }
        },
        "e8be8b0baec24dcdb19772f116c67ec5": {
          "model_module": "@jupyter-widgets/controls",
          "model_name": "DescriptionStyleModel",
          "model_module_version": "1.5.0",
          "state": {
            "_model_module": "@jupyter-widgets/controls",
            "_model_module_version": "1.5.0",
            "_model_name": "DescriptionStyleModel",
            "_view_count": null,
            "_view_module": "@jupyter-widgets/base",
            "_view_module_version": "1.2.0",
            "_view_name": "StyleView",
            "description_width": ""
          }
        },
        "33422671a4694c95bbfa84d8ad32dd44": {
          "model_module": "@jupyter-widgets/controls",
          "model_name": "HTMLModel",
          "model_module_version": "1.5.0",
          "state": {
            "_dom_classes": [],
            "_model_module": "@jupyter-widgets/controls",
            "_model_module_version": "1.5.0",
            "_model_name": "HTMLModel",
            "_view_count": null,
            "_view_module": "@jupyter-widgets/controls",
            "_view_module_version": "1.5.0",
            "_view_name": "HTMLView",
            "description": "",
            "description_tooltip": null,
            "layout": "IPY_MODEL_8459a93a0efe47eda3acee1c6e23f82f",
            "placeholder": "​",
            "style": "IPY_MODEL_3bff03faa7bb4d149341475b46a55aea",
            "value": "<img src=\"data:image/gif;base64,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\" />"
          }
        },
        "8459a93a0efe47eda3acee1c6e23f82f": {
          "model_module": "@jupyter-widgets/base",
          "model_name": "LayoutModel",
          "model_module_version": "1.2.0",
          "state": {
            "_model_module": "@jupyter-widgets/base",
            "_model_module_version": "1.2.0",
            "_model_name": "LayoutModel",
            "_view_count": null,
            "_view_module": "@jupyter-widgets/base",
            "_view_module_version": "1.2.0",
            "_view_name": "LayoutView",
            "align_content": null,
            "align_items": null,
            "align_self": null,
            "border": null,
            "bottom": null,
            "display": null,
            "flex": null,
            "flex_flow": null,
            "grid_area": null,
            "grid_auto_columns": null,
            "grid_auto_flow": null,
            "grid_auto_rows": null,
            "grid_column": null,
            "grid_gap": null,
            "grid_row": null,
            "grid_template_areas": null,
            "grid_template_columns": null,
            "grid_template_rows": null,
            "height": null,
            "justify_content": null,
            "justify_items": null,
            "left": null,
            "margin": null,
            "max_height": null,
            "max_width": null,
            "min_height": null,
            "min_width": null,
            "object_fit": null,
            "object_position": null,
            "order": null,
            "overflow": null,
            "overflow_x": null,
            "overflow_y": null,
            "padding": null,
            "right": null,
            "top": null,
            "visibility": null,
            "width": null
          }
        },
        "3bff03faa7bb4d149341475b46a55aea": {
          "model_module": "@jupyter-widgets/controls",
          "model_name": "DescriptionStyleModel",
          "model_module_version": "1.5.0",
          "state": {
            "_model_module": "@jupyter-widgets/controls",
            "_model_module_version": "1.5.0",
            "_model_name": "DescriptionStyleModel",
            "_view_count": null,
            "_view_module": "@jupyter-widgets/base",
            "_view_module_version": "1.2.0",
            "_view_name": "StyleView",
            "description_width": ""
          }
        },
        "aa510c17e12d485fb27e7e4dc753cab2": {
          "model_module": "@jupyter-widgets/controls",
          "model_name": "HTMLModel",
          "model_module_version": "1.5.0",
          "state": {
            "_dom_classes": [],
            "_model_module": "@jupyter-widgets/controls",
            "_model_module_version": "1.5.0",
            "_model_name": "HTMLModel",
            "_view_count": null,
            "_view_module": "@jupyter-widgets/controls",
            "_view_module_version": "1.5.0",
            "_view_name": "HTMLView",
            "description": "",
            "description_tooltip": null,
            "layout": "IPY_MODEL_63a4f9e31b1c4f978be6e2fb3b7c461c",
            "placeholder": "​",
            "style": "IPY_MODEL_a4abd4b17e88416fbf65868fa55f0120",
            "value": "<img src=\"data:image/gif;base64,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\" />"
          }
        },
        "63a4f9e31b1c4f978be6e2fb3b7c461c": {
          "model_module": "@jupyter-widgets/base",
          "model_name": "LayoutModel",
          "model_module_version": "1.2.0",
          "state": {
            "_model_module": "@jupyter-widgets/base",
            "_model_module_version": "1.2.0",
            "_model_name": "LayoutModel",
            "_view_count": null,
            "_view_module": "@jupyter-widgets/base",
            "_view_module_version": "1.2.0",
            "_view_name": "LayoutView",
            "align_content": null,
            "align_items": null,
            "align_self": null,
            "border": null,
            "bottom": null,
            "display": null,
            "flex": null,
            "flex_flow": null,
            "grid_area": null,
            "grid_auto_columns": null,
            "grid_auto_flow": null,
            "grid_auto_rows": null,
            "grid_column": null,
            "grid_gap": null,
            "grid_row": null,
            "grid_template_areas": null,
            "grid_template_columns": null,
            "grid_template_rows": null,
            "height": null,
            "justify_content": null,
            "justify_items": null,
            "left": null,
            "margin": null,
            "max_height": null,
            "max_width": null,
            "min_height": null,
            "min_width": null,
            "object_fit": null,
            "object_position": null,
            "order": null,
            "overflow": null,
            "overflow_x": null,
            "overflow_y": null,
            "padding": null,
            "right": null,
            "top": null,
            "visibility": null,
            "width": null
          }
        },
        "a4abd4b17e88416fbf65868fa55f0120": {
          "model_module": "@jupyter-widgets/controls",
          "model_name": "DescriptionStyleModel",
          "model_module_version": "1.5.0",
          "state": {
            "_model_module": "@jupyter-widgets/controls",
            "_model_module_version": "1.5.0",
            "_model_name": "DescriptionStyleModel",
            "_view_count": null,
            "_view_module": "@jupyter-widgets/base",
            "_view_module_version": "1.2.0",
            "_view_name": "StyleView",
            "description_width": ""
          }
        },
        "6b29a18160a846008372871082e126b3": {
          "model_module": "@jupyter-widgets/controls",
          "model_name": "HTMLModel",
          "model_module_version": "1.5.0",
          "state": {
            "_dom_classes": [],
            "_model_module": "@jupyter-widgets/controls",
            "_model_module_version": "1.5.0",
            "_model_name": "HTMLModel",
            "_view_count": null,
            "_view_module": "@jupyter-widgets/controls",
            "_view_module_version": "1.5.0",
            "_view_name": "HTMLView",
            "description": "",
            "description_tooltip": null,
            "layout": "IPY_MODEL_c619cadba6d6425a88d2893bc15541ad",
            "placeholder": "​",
            "style": "IPY_MODEL_65e32bd7a2004cde8fb1483316ad6f24",
            "value": "<img src=\"data:image/gif;base64,R0lGODlhQABAAIQAAAAAADMAAAAzADMzAAAAMzMAMwAzMzMzM2YzM2ZmM2YzZjNmZmZmZplmZmaZZpmZZmZmmZlmmWaZmZmZmcyZmZnMmZmZzMyZzJnMzMzMzMz//wAAAAAAAAAAAAAAAAAAACH5BAAKAAAAIf8LTkVUU0NBUEUyLjADAQAAACwAAAAAQABAAAAI/wABCBxIsKDBgwgTKlzIsKHDhxAjSpxIsaLFixgzatzIsaPHjBkcRPjYcQIDkh0ZHEDZcSVLji5faowp8yIDATUzHiiQE+OBAT0vHjAQtOKBo0UpHqWZ9OHSphF/IoUKcSpVhwIIML2qMIBVrguzAgXbcChZhgQCjD2LUEAAAwSonkzA82QABicJxh2wNideAAfwBgbAwAIGvBMGDliptefSBAIZKDiwoAFixBMmQNDMIMHgmiqXQkiwILBJBiYPaDY54cHmzTmXHsigQSUDCpkFM9iMGgKEB5lN1jzgmUGG43gzZIYQujWEBiIlMIggYeTL4psvBEctIXdg3tVFisoELhMvauUWJqSPsD3B790MRPbmXDO4BdzBM1t47ZqBa83AsfdAfempZ2B+uUk3nUjLLScTAcFdUIF2B07AnknUWYjgBA3UREEGFmRAYYEFrsbghpo5INNQCOg3AQXpxYhihQBYGJQEMCqXAYwu2jeBcokBlllQ6oFoJJDahRjikAMxmVNwyl0gkHoVZCBQAAYtWdQEF6THVkJFBvmlQS6OedB2ZpLpZZoFXchmQcG9SVBm1slZo5NyFiamnXz26eefgAYq6KCEFhUQACH5BAAKAAAAIf8LTkVUU0NBUEUyLjADAQAAACwOAAYAHwAyAIQAAAAzAAAAMwAzMwAAADMzADMAMzMzMzNmZjNmM2YzZmZmZmaZZmZmmWaZmWZmZpmZZplmmZmZmZnMmZmZzJmZmczMmczMzMz//8zMzP8AAAAAAAAAAAAAAAAAAAAAAAAI/wABCBxIsKBBgRckHFzIkGDChhAXLohIkeDEihgPYMy4keICAR0jLigQEuKBASUbHtCYcuHKlgdXsoRJUCbNgjZvCjwg4KVOABp96gxgYMDMmwaIHqUZQEABkD8JABgg9acAAkR/AmhKAKXOpAQWXOw4sYJCsQMWHBBbcsGFC2IXJFjwwEFcsgvMil0pVsLaB0sbqnULNwGCuGoR1MWIgMAFDBngKpAgYe8CCQ8URlyJQELkDJUpV1awAEIDCBQPKDhAOSFlCJQBM4gAmyKCuZQtuBZdmTZlkWsdSDA7XHQFusJ/R+TNmzhmB7BjLx9O3AJzzMwjEmgu4YJZ58MvAFBQ3rC1hQneJ0iwPhy9Ru8Ro3/vXiGhdwoCL1OM0Lq+94QVBOZRcQAGcJNo1v10gFnw/USZWVq1p9V45OkU3YSiTZiZZg5WeOBwE443FkYBAQAh+QQACgAAACH/C05FVFNDQVBFMi4wAwEAAAAsFAAGABUAMwCEAAAAMwAAADMAMzMAAAAzMwAzADMzMzMzZmYzZjNmZmZmmWZmZplmmZlmZmaZmWaZZpmZmZmZzJmZmcyZmZnMzJnMzMzMzMz/////AAAAAAAAAAAAAAAAAAAAAAAAAAAACP8AAQgcSBCAhYIIEwKIEEGhQ4EKFDx0eGCiwgMVLSJUIEDjxgIeC3IMSRAjyYEICJwUaPIkxowkX66UeXKAAZghCQzA6XEAAZ4adQK12HHoxAAEOsYEIAAkyaZMEx6QmDCAAQBORVKVmhIBRAASI5akYIFCBAURHDCMKFYsSwtwyaJtwDZiRQUwyVYoW8EuhYhn7XoVSLashbNT4V6wgPcswQiG4XJMEAGDhQtnHQuMQJaCBLN4E8NlmHYgwwoTzP59Sbpsw4EPOEeoQHoq2tMMTZPeHWEqabOcA2yWTfoBhNu8Xy/8zRDCArWegVegYNqs2thqd8c9qDvCAwbZveM5PlyQuILYuynoRbh7KgSGhSMIn3gbeMjzDMuShC/hZHbq+5F2Un0robfSe8qFZOBJAjIo20q5PRQQACH5BAAKAAAAIf8LTkVUU0NBUEUyLjADAQAAACwRAAYAHQAzAIQAAAAzAAAAMwAzMwAAADMzADMAMzMzMzNmZjNmZmaZZmZmmWaZmWZmZpmZZplmmZmZmZnMmZmZmczMmczMzMz//8zMzP8AAAAAAAAAAAAAAAAAAAAAAAAAAAAAAAAAAAAI/wABCBwokALBgwgTHoRAAYLChxATHIBI8aDEihgFJhiQEWMCAh0rbgxJMYEBkhEDoHxocqXCAxNdIkQQUyZBmDYP4swpEGbNnBN/2jwgoABPgQEMCDgKwEAAlUcHEBAAkieBAAKgenxIFYDQiA8PYK2qMAFBsw8JcPw6MAFaAG8RJj2g4IGDsxrdmnWr8IEEChMkQICwwMGDARIbuD0AQS9ChhMoUPgLQTAEB4obS6zwV/HBv6AliwZdIUHjAQcSWODM4KDkv68nA349WKJPyZUJVo4gAXbk3gwFS6AJE8HuhgMrM6zckHJD5bZTD1buEMD03ZSFX2+c2vR2gdO1S5KIQN0yBMWMB1ueAIAC5uvNt7/3Lpx3Y+sQHiRwsH17Awb/qccbbuBNZ5d61/F3HoAK9oQWAYPd1VgDhU1nmILhJaTeW5ct0EAD+V0nnELPVQfef25hKJhWCJkm2EEBPNBAXepxRNF0CbmFIEYQsKcQiIMZlNN0E5go03mDHSWdkTY1eJR3TCEZJX9R4ngUcxUFBAAh+QQACgAAACH/C05FVFNDQVBFMi4wAwEAAAAsEAAGACQAMwCEAAAAMwAAADMAMzMAAAAzMwAzADMzMzMzZmYzZjNmM2ZmZmZmmWZmZplmmZlmZmaZmWaZZpmZmZmZzJmZmcyZmZnMzJnMmczMzMzMzJn/zMz/////AAAAAAAAAAAAAAAACP8AAQgcSLCgwYMIBW7AgCGhw4cDFyyo0ACixYQILmosuODAxo8AOoLcKHLkxZImIXYckFLlAY8tHSI4YCCmwwMLAthMqODlToQvYf4sOFPo0IE0jR4FcCCA0qMHBBBYSjCAAZ0pnxKMitXkAodWCQhI+fXrwasCCnw0GzIk26o1u540W/btQLRTNUKQKFEBU7sCPRYQoNXgAgkN+C5g4Pagx7SHI0CQ8AChRAkYJB7oKQEwAAkDDkuoMKGChNMSBGruPDHzywEJDmBOTXB0BYa4Gd42fVsDBtQSDhR9edoCbQC3MexWjiGDboYWkvPuHBQn8NTSS+OWzhwz6dGnNb/XFA0egPbd2pnf9s4ePGXNok1jp2CBAukLvH/rn3799AMHh5mm22fTfffbeqYZBxwEkv13mnylTSBQf/KRJiBw8jHIQAQLPHCaXALJd12F4Ik4mQQQNDDZZAj99gADHp7Y33UeoubZQKhFsOECkmGIGoMyVgBRf3t19sCLKErW42kWySYkADLW6MADiqU42kW/HVcQZf5N6QCTF8n3UHgdXnnRBKMVVlt8GmWpJUIEAAeiQ7xBFMCSGwV3UWdmUsUlBFRNKFqgnzH45lCnsRhojXoSquZBAQEAIfkEAAoAAAAh/wtORVRTQ0FQRTIuMAMBAAAALAwABwAsADIAhAAAADMAAAAzADMzAAAAMzMAMwAzMzMzM2ZmM2YzZjNmZmZmZplmZmaZZpmZZmZmmZlmmWaZmZmZmcyZmZnMmZmZzMyZzMzMzMz/zP//zMzM///M/8z//wAAAAAAAAAAAAj/AAEIHEiwoMGDCBEe2HDhgoSEECMmPCABgYSHEjNqFGhgwcaPERccAEny4AIEJVMORDBSZcoFCgK4LHlA5EySJwncBFmz5U6NIn3+lHiA5VCNB5IeRapgacakQp0ePBAgqkqPTwVYpYkV60QCAnYu6Or14IAAOl2O9Bo0oYEBYV2OrSkQQQKbBwMYKOBSwlgEWAmMdSszLkkNYyVU2DA3KUaDetGWlJBhgYQLHIJCvfh44AEBBAbg1ICY80moNTkXpAo6QGIJD/wWtFyhwgQNGC4wqHBRpIIBSRsolj3QI4GqDSBEuKz4Au8KzhtCl36R99gEPS1LsNDZ7wCLzS1M+7fQMLpt59CH8+49FwHvCwWr145efvp49A65c14vYbliAHgNNJx05pWngXkUODRcdRIwEAEE2kF0GX3MiZceeZdxpx9nEkCQXAMPQLDVQNCViB9ztTWn3oIdPvigBIYhhKJDEyj2XI0OvcchhxBcpNFwEzx3UZAM5rggb8r1CNKO++3I3449dvbjk0w6eVGPsUmpkYIPdPnAAl/CBluSln35gANaasTfAmh6qBwDsDlgGZhy+piSghw+mNxySeppZlkg4dnhQeBdmZhLvH3EYV9pJnRRbIx+FBucLuWoKKQqraeoZWmVZOlGVzb6lKgy9keqU4tKpeqqBwUEACH5BAAKAAAAIf8LTkVUU0NBUEUyLjADAQAAACwIAAgAMAAxAIQAAAAzAAAAMwAzMwAAADMzADMAMzMzMzNmZjNmM2YzZmZmZmaZZmZmmWaZmWZmZpmZZplmmZmZmZnMmZmZzJmZmczMmcyZzMzMzMzM/8z//8zMzP//zP/M//8AAAAAAAAI/wABCBxIsKDBgwgTEuSAQUIEhRAjKuyQQYKEhhIzagSQ4ACABQs2ipR4IOTIkwhLolxZcMACjyxZloQZE6UCBDRrjiyZQOfKlz5RvswZNCMCBUSLRjzAtGhShUODghw4VeEBnFJNfqyKcAGBpyeZahUrUCtBpgPAigSpYGBJBAoDHDAQQCdIuFQPIE14YACBmhYhLJCwQQNIpgckFDhoYICBmhsygMSwAcNQphYlGPRblyUGhiAzX75q0eABAQUErCSsYYODCqKvIpZQwWAAun9FWqyAoTcG2MBBLlAAsoIDg3RVa9zN28Lv37QnwLb4oDRCvx5pDq4eGvjzi7zDN//MnBmCZr5+BdxeACECBAe0n/fmjcF5hQkXJEgvH2HBgwYQLYCaQCVJAB99vVmAoHj3TUebBA8wIAEEagkkwUtpDUYbg77Jxxt4D5IXwXkQkbebb81x+CF095FX3XLMXfTcfRf8ZgF40v0mHQW7TUiiRARkVh994UlwY0PA9RgihD9mRJt9zx35oIMN3eigjydlVgEFVlKQ5HhXmvhiltUhyaWJaDrYXmgokdfikj6ax51g/zHwAAQoJeYmfxA80J97THIHIVcjVWfedA8sEAEDizbKqAPvjShYA4vFdFF5EzZgXkiD5QYAeTqBCKpCDz4wQE0PjNckqRdWGlNDZkUtNGEEp9bUkKcSUbfqSQ0xsFFgu46E5K+Z6TTeRgRI6NOwSmkEXbO/dgYtAAEBACH5BAAKAAAAIf8LTkVUU0NBUEUyLjADAQAAACwFAAkAMwAyAIQAAAAzAAAAMwAzMwAAADMzADMAMzMzMzMzZjNmZjMzM2YzZmZmZmaZZmZmmWaZmWZmZpmZZplmmZmZmZnMmZmZzJmZmczMmcyZzMzMzMzM/8z//8zMzP//zP/M//////8I/wABCBxIsKDBgwgTKlzIsCHDDxwySJzgsGJFBhMZTKBosSPDBAcEMgjpseRCBgxMqkR4IOXKlwNbkoS58kCCBTRfysxZEyXPnjNf+iw5MujKoQBQugRgtOBOmkhlumxKECTVki2rKrjqdGROpElRgsSZ8IBZrhaVauzgocGCAmYbKCxKM+MEDxmKmuXI8oAAmHc75N04gYHVrAmtwszQQQMHjRMsoGyJYOnBAwQGFFg5IWLEyIQjOOBb9sAAAyYjZ7CwQaKFCRdCNzSd2eNGCxkmrF5NgfAECBJmGxhAIEDF27txv879GoLGigGGE2CIXHmGCxYo4Aa9EYLFkE1/P/9wrnq3RPPbX08Q3TF6AAHTAXQfr9u1/QuuKWDw/duj9AFMJQDBAxJUJxF+9m23mmwemUWcQAKup5p1FDKXG3ekXWSWe5DhxltyvC0HWnb9lbSRUoRZl5x22o04QW/dWWYRf6Cdp5x2zBHWm3riqcTjhOgtqJqL3RXmXWoSDrlgjj/6NqBzMna0UYEbfSgijRFIIFoEEBSWoZTrdTnka+qpl6VGGmVJ2JEmqedABCnyl2UDEjQg5gQtbRRBlGnpORphF55ZWJYGEcanQx1UENtvYpI56JcEdZeASa0RcKFAgBIWnEIxwjSTRspBWqieP8k3UQQN3VlqBBMdJ+pLn5UhWpJrh8qaUEa2WsSBBuvlWhEFHGzkq0MYvTasQ7qhZVJAACH5BAAKAAAAIf8LTkVUU0NBUEUyLjADAQAAACwDAAsAMwAxAIQAAAAzAAAAMwAzMwAAADMzADMAMzMzMzNmZjNmM2YzZmZmZmaZZmZmmWaZmWZmZpmZZplmmZmZmZnMmZmZzJmZmczMmcyZzMzMzMz/zMz//8zMzP//zP/M//////8AAAAI/wABCBxIsKDBgwgTKlzIsKFDDB42YJh4wKFFhxImYpCwoIGEiyARLhi4YMEAgQlGhly5UIBKljANBlhQMaZNki9vxlSAwOaBlyWBOlyQwGZJkj9V1mR4AEHOkEeRQv0ZMynOoEsX/swaEgHVkRsyYKB5gCtCr09BJuXoYEGHCibLNjygQC7LnxLhLpDAka7dhQm8wjyAYYMGDhz5luzp0O/gwhre8q0gAcJFr2YtSqhQeOJmvh8tbs3McLPGiZQlPEirMEHZkyAzcq5gIXVlB2rLGgigmTLnjLJBrzww4IABjKZrY7CwMbXlkGUFFCidXOPsChP43j0Q4LhC07MxcP8Wv/HzXQHcBRA8kHiyRuaoNzYPPbx7AAICK0eAsB88+fDY2TaYdAIIkNJeHoHGGXzjYXcBcBwNBsABBJzk0gOVueefb5+lVtUABgxAwH0DgOafeBNgV56JD8REFnEEGKigdeJRIN5kn0XFEkeYOeWAe+OhmJptDGBoE4sKmvbffKDxB0GEMX1mImVCzmcbfwyYeGSToC1pWpMR7MViTATg2N9nzWXXZANP5sdXizAFICUECW42AZOqsUnQAk+yZpGYfO0H6GcUULbXQW9GiSOdq02ZIgR+egiTlGACWgEF2iHEF28s7SWfoT86CZ6fN2GA2F4W0AeAiZ7pdJCp9OkrOBBfqHHqakicSUTqrd9ppCqvFqH2K7ANmYopsSD5iuxF1i1rEQETPQdTQAAh+QQACgAAACH/C05FVFNDQVBFMi4wAwEAAAAsAwANADEALwCEAAAAMwAAADMAMzMAAAAzMwAzADMzMzMzZmYzZjNmM2ZmZmZmmWZmZplmmZlmZmaZmWaZZpmZmZmZzJmZmcyZmZnMzJnMmczMzMzM/8zMzP/M///MzMz//8z/zP//AAAACP8AAQgcSLCgwYMIEyocuEDCgYUQIx5c0EEDBwwSMEjcCPEABg0dMDhYQJKjyYQkFxgQWPKky4QHFrwEkHKmwJgmWx5AgNPmgocSe96UeROBy5YRfxJsKKGCgwNATSJQsDEmSascNlT4GZXjzwBVfzYci0Gsy5hUg5LEcFHCWKInfxpVK8FDBg9lJUh48DJmV4hN72bg0FRvX54ENuq9eLGCBAgzoSqV2BRDBQwYDfflSvlyxgoTHEuw6TeiXtCXPUtIPJPrX4OnJ1zAnHo0aZ6vCZ7+jMECRow2ARxQEOCAAIQPTlvGvLxpcKhQCxxsoByzBQ6pJ9iODFXAgIIPHED/cNw7NebP2/seGFBgJYDw8JVfpm1Zb3r1Ago42Ks3ud7lzaF2n3oBrKQXU/ahZpkFAg7o0gAGFBiAAg2FF0FlzWWmVwTB3UQAhGAFoBcElc3nmWgOnjXAhxESgMCFEvgGIIqadQjdegQIwMBuJobW32MdAuAWTzwt4IBoJjb32IZB2hcBBA1AAGOGu0XAFGTBJWiflr+pBqR9HZKopZiFMVjYXgKBmeVuG5JZAQUYhYalkBXwteaWUFqopWhBFqTliFaSSCZGcPWJ4JnwNaBnZXb2KaSYNJJY4ZLnOSqkYbG5pYB9kFbqaGUHJJCRg//RZqkFej2UGkKLZaBRnxgdIEcZXhXA2oFJFbj6aocSyKoYXrtaalpGmAnLEbG1bhQQACH5BAAKAAAAIf8LTkVUU0NBUEUyLjADAQAAACwIAA4AJwAwAIQAAAAzAAAAMwAzMwAAADMzADMAMzMzMzNmZjNmM2YzZmZmZmaZZmZmmWaZmWZmZpmZZplmmZmZmZnMmZmZzJmZmczMmcyZzMzMzMz/zMzM/8z//8zMzP//zP/M//8AAAAI/wABCBxIsKDBgwgTKlzIMOEBDBANNJxoUEIHDx0kODjQcAHFgRQgYmhQYAHHgwEELlj5UWCAAycPeDTIEoDMgSYXzix4k6YCnBIqSMjZUuVBogEwbhh6IGVRBDsH3ly5EsMCBj+LAlBwkuABqAckQKywIAICrTajCoS5sgJGDRIkJEBr0qnXB2IxeMjAQQLatFkLxpXAQWSFv1+7EoxbYQIGDo0RExUcFINQy4h7Ur5sGYNfrYkVA2AstoLlCYdBy1QcAQJj1IbRHuAKcyCECIw7d5a9+uQCjUHzmrb8uWXokw8c4BVrQeRptAlgDgDwe7np66cv8IaZfHlu0xaEFv83DlMAhAbnBzfuHHz7AAJxXQfvbHrodgEBWuN2Pbz++I8SCNCUATINNZhuQqlFkQQBEBiAANSp159naMVlQIMHFADhYKWd9t+CD0iHYQCk1YdZhQsg0NsBDRw4XFwoLvDASlCpJ4EFQaH24UQPMMDhYPJVJhaMWjXgXXBx4WajUGgFiaQEDziZG1oR+GijBOfN+CMGoHEoHpZVVvlAa5UpyNBvP37ZnQMcnvgRmhB8GV+LcS3HwQZcvhmlkkGJZxMBKsX1WJ4LsgnBaEJNsCMAwxE6EZEClZaQWIUBGFRXkiKUl6MMDbZgZZwu5GZDBeS1KEIZ/AUgB6q+2WpBAQEAIfkEAAoAAAAh/wtORVRTQ0FQRTIuMAMBAAAALA4AEAAfADAAhAAAADMAAAAzADMzAAAAMzMAMwAzMzMzM2ZmM2YzZjNmZmZmZplmZmaZZpmZZmZmmZlmmWaZmZmZmcyZmZmZzMyZzMzMzP/MzMz/zP//zMzM///M/8z//////wAAAAAAAAj/AAEIHEhw4IKCAA4iXMgQgAULFBIKVNiwIgAJGzpYWMBRIAKLFRs8lLDgwECTIBtyFHAAAYUJEg5QTGkwockECzgs0LCR5kKZAA7IlEB0pk+BQksikGBBAwajR4MuEJBAAocLGyxELSg0aVMMGrYWVHqAwkMLEsQSTCqBglkKAdQiHTrhrVa5QpdSYPoyotquC9pOaHpXbNIDbSE+9Bu1JNvEZi2gPOrYcWLFaRt3RWCAKdPFWx+07NpWQoW3jWMeUCCU6F7FlEl2PRCAaOLTRx84EN1VgO3LPkkSZSk0QAQIkCXTRP5AQgChAgr8PpvZooQGtgkMOFBAQODSqEEyxZcAITrLAJ0Fm61e8XhRoQMMHBhge33hirY5zm7tuu79hsiRxBECCxD43WttpXQdBBFw1OBvAdYHkgQPMLBABL/txWB9TInXgG4R7lXUcdglaFEEDDT33W8qNoecBRNYFNiKpREFQQM32sbBfwgt0Bx5HJKHYYAUXBBWRQsw8NuSRSVElFMy/sghYwMRZaSM30n5EkLAqaSblDUWZNtDSDYpUGJclmYde2dCRROFbMp1JlFycllBnVzGiGdBGmSwJ0FNiRUQACH5BAAKAAAAIf8LTkVUU0NBUEUyLjADAQAAACwXABAAGAAwAIQAAAAzAAAAMwAzMwAAADMzADMAMzMzMzNmZjNmM2YzZmZmZmaZZmZmmWaZmWZmZpmZZplmmZmZmZnMmZmZzJmZmczMmczMzMz/zMzM/8z//8zMzP//zP/M//////8AAAAI/wABCBS4YKDBggYTDix4QCGABRI8ODw4EIFCCRw6TCxoEcCBAw8SHqAwYSMBiBI8Ihx4YIGCjRIWbFhAM6bBlg0d1qTJQILNgQMOdFT4cUFLmR423Pw4USjNBREuaJjJkmnToxIqcMhwoepQogse+Mx64UIFgQMMJJgocKxPsxLMerQ6cWwFnxYqTDAbdKVOCRB83iVb4SNdhxIiuM0a1/DXixAUu9VrOGfdBRAaBLZb1PLGCJEjjzUMke3DnW4/Ijhwlm0EBhEgYlZsWEFctg8wa47gIHLlCa0Ry34AG4JRwxI2dHWY+YEDCc5fVyY78TV0n2IXGAh6gDBz0Jp9LsQIYODAAAJvU15ECZ4h+QGCy0K2DniBgAMGCnQXrN5gzLEPNJCAAPr1lV5CYQE2Fk1CYcVYcANJ4IBigeX2FEpuQebTa7FhiB1st/l3HWwMOGdXYigpZdBmzgUIgVhuhYbRRTEZl9mJ0D0ngUYXtQiYZGO1VQEGwkWnIGMRJqcTAw3AuFhb1DmUW0+TqXfXBJ4dBNVmm91kGk+gQVQBhF+2aJmEpvlXWpq4+cRmXeK9iVhgcjokWZ0KBRCXinj6h4FfbAUEACH5BAAKAAAAIf8LTkVUU0NBUEUyLjADAQAAACwUABAAHgAwAIQAAAAzAAAAMwAzMwAAADMzADMAMzMzMzNmZjNmM2YzZmZmZmaZZmZmmWaZmWZmZpmZZplmmZmZmZnMmZmZmczMmczMzMzM/8z//8zMzP//zP/M//8AAAAAAAAAAAAAAAAI/wABCBxIsKBBgQscPJBgoeCCgxAdIiAgAcPAhwAQRIx44IBACRcBdMS4seABkgg9LjCwAGVJkR4RSmjJ0MJMAC45dhw4U4KGDQkWMMD5EuZOgRQWKJiwAIECCxlyHhxg4IDGgVYVLDhpAUOGogcKHMUatCWFDBcalhzQMSbWkxEkSJiQwQKFklUPCCiI4IAECHLlUpigFuKBAAoCGJQQVwIFx3YhGx5L8G/gy4MpWCg8kK3bgpcdB35MQTPnthDlPgAcWq5duzFRHwy8IAIE260raKbQ92RECQ9aKnSAW7RrCW0/F6SosDaEBrdDP257NeKDBkIfKGQQgfvo5CVnXvEP3nN1caqUDx54DkEh9AUSoPck4Pkl8O1xcUdQKGEAgY4gbaQaf/BpF5x/bIlEgXKg/dVdcRIw8NAB9B0wAHLhOdjeQoxJYABb//llH2PeWQbBVtTBNyJg3AEWV0tbwRjgRn4xBlgDl8GII3AMLuYiA3Ldxt0CrFHgAGepBWlZeSXK9dWIHS70wJCWPYZkkjnOxN5lT74EGGAGyteYY4oVJVKQRMLXmpmVRbAAdI0BdhebBGWnJmt0OgQjkILlqWcED3zUI5sLTLmXn7O1hOhB7BmwqI8zPooQh5JWFlilPLGmAaYDCSDXBpwOFACGBwUEACH5BAAKAAAAIf8LTkVUU0NBUEUyLjADAQAAACwPAA4AKQAyAIQAAAAzAAAAMwAzMwAAADMzADMAMzMzMzNmZjNmM2YzZmZmZmaZZmZmmWaZmWZmZpmZZplmmZmZmZnMmZmZzJmZmczMzMz//8zMzP/M//8AAAAAAAAAAAAAAAAAAAAAAAAI/wABCBxIsKDBgwYPSLAgAaHDhw8XSJRoAaJFiwgOCDywoOHFjwUPcES4AORHkRoPLshoEiJKkiIltkT48iDHmBtnEjwwIOVAhRIkLqxQsqROAAcMiCwooULQBRYyIOjoUeeAAgcQMHUqdMICjgyPHhBwgEDBBBLSSkigYEGCBRguVNB5ACtCrhwnSsAQtuVYnwclxKTatEJFkzUdioyg1ukEp4YBK+4JMajatBUoVJjQdOhhm4kRBrjc+LJTC4adJsRZWQIE0rAhT0ANGKXkgwTSRoDwwDXs0ps/276o9oGDBw0e9F7+u8JcpEsv5k470cECCA2wv+5NuiLP2w47L/CIsAD5AwYR0HfsyL3pAAN2TVKHsEA9cu27JeQv+Xem0+TZZceeA9gFhYBZGh0QgE5pQZCecRDq95pM7wWgFIMNMhYhA2qRtwABPUXXUmdpccgdcxPaZlRLr10G4XEOqDWRXgwu4NRlLfbW4lPjVQUSYYQ5iB6HaS2XXVozXQbAjWo5qJ8EMD5A1VEEdeYkBARKACF6r1E50G8SWkYVeEk2aKaAOvroJQC+4Rhgi2saRJiWEjmpZpxfikkYng5JqdedfA4k0W6BRkRfoQ+RByiiAmG5KKNaPlqojIwGBmelTDG2kAUFYGqQWp6GKiqiAQEAIfkEAAoAAAAh/wtORVRTQ0FQRTIuMAMBAAAALAsADAAyADEAhAAAADMAAAAzADMzAAAAMzMAMwAzMzMzM2ZmM2YzZmZmZplmZmaZZpmZZmZmmZlmmWaZmZmZmcyZmczMmZmZzMzMzP//zMzM/wAAAAAAAAAAAAAAAAAAAAAAAAAAAAAAAAj/AAEIHEiwoMGDCA8qOJCwocOHAxVInBhBAcSLGBdGtIixo8MDCBR6HEnwwAECJFMiNDlApcuSJl/KNMmwIUeZKwXUdDgxJM6SBXbapMnx5ssBBoQiXGhSokCjLg8EUEowAIUIFStcmKggwk+aCbFe7WoB68QKMw/oDEtBAtYIYxd2vUC1I9iGFa6+lXu2gteUdxsegGu2aVe4FPLm9Ygg5kW4TA+/1RvBb+LEUAnqdPw4QoIBYglL0Et6NFy0BoNy7gzhrevXrkmjHri5rkOsD97mdr0btligaz06eDscwvDjEZD7xgqAANIAKQlHeMCAusSKDRxkV/DAAYQH37E693duQKVrBxIfSISgQPvw6tUbsGcooEB985QVsGe/AMICB9V1BV5uBwzg3AFBvRRaf/+1l11/1EXAAFbomWTAALZ1dJ6E01Xn33ff9SbRAU69NBxluQ3XlXvyJWcWRTMth1t10y3wmnsMxJgbZTfK9x2N1Dlgo0wOOgCAZbpRGIGNb/04nEzTQdCSQEjyBmJuDD6p4HTlDVSBadO9ll1FZEKJFXQEUTABj71VpB5zPx0EW2thAjjcA3GGNWCYEfg3UZ4QSaYegHgC2hEDfxraUYmKYgQemo1C5GGkjz3gE6UNYQVBAphmiltls3VaEGyilmrqqahiFBAAIfkEAAoAAAAh/wtORVRTQ0FQRTIuMAMBAAAALAgACwA1AC4AhAAAADMAAAAzADMzAAAAMzMAMwAzMzMzM2ZmM2YzZjNmZmZmZplmZmaZZpmZZmZmmZlmmWaZmZmZmcyZmZnMmZmZzMyZzMzMzP/M/////wAAAAAAAAAAAAAAAAAAAAAAAAj/AAEIHEiwoMGDCBFKkLCgoYQDCSNKnDiwocADEClq3DgQI8ePID2CHElRJMmTCE2iXHlxQEaWLA0UeAkTpUuaNUkeEJBzJcYCFBf0TDnAgMaGSCvmxIgz4YEFBxAIBRBgKksBTEtGxVgBAFKrKGeqTLkwgYILGS4gHTtSQIKmBhdWWLhAAoYLDBUgMOuTbUEJcxcKloAXqsMLD0gGMOByogQLc+c+oIvRIeAJkQlXuLB5M0KsB4xKJIx5MEPDcgFTmADYdGqDBBYH0GhgQt3MGF0HHhx4d0GsAeBGJDAYquDdgyG4Pv4QQAEBjEe2lqBccHUJk7M3gPCAQfbTFxcL9ne8ezKECAsm110QwbuDCNu3S2iQQMDzAwUQnEwt+IGDhg8swAB6DEFQl3+TncYUWCDhNZh66DUQoIHtVUhdBHQhJcFKkBXXXnfrMRQBBPFB4EB1CEbAEmfTkYgdQ9iduN2IGI64UIAbwlSaaRgqZ6N/JiYIY1019ZacaSdiCCSG1G1Xk2C3LXcedQudx0CMkz250ECc7eiakE1mCdOFBS3AGYvIUSlBe0SOKQEDBx1A2JHJpQcnS8RtqZAFpl2HnkUsVZljQgsoN6V1DY3HkYMoNVDoUPv5BylJN05K6aCWbiToBRdkSpGDgnl6FKailmrqqScFBAAh+QQACgAAACH/C05FVFNDQVBFMi4wAwEAAAAsCAAJADMALQCEAAAAMwAAADMAMzMAAAAzMwAzADMzMzMzM2YzZmYzZjNmM2ZmZmZmmWZmZplmmZlmZmaZmWaZZpmZmZmZzJmZmcyZmZnMzJnMmczMzMzMzMz//8z/AAAAAAAAAAAAAAAACP8AAQgcSLCgwYMID2aYwFBAwocQIwpkwOAAxQMSM2oUaHGjx40HHH4cCREjyZMITaJcyVElS5QHBrxkaaDATJgDXN70eOAAgZ0kY+oEmrHnUKIleyL1KEBpRAZLWx41aPFAAopQAWRFGcCA04g9KyowWXHrSAEFvj60SqAiAqhYKZ4kMMCAzKdhK2bY4KDBBLknD3SVyHAhxQwaFkqoyJCBhQyPLUSmIPlg17sQJ1xgyBDCBAoY/lp0PMEC59MWKnAmKIDuz8wMTZueIIFhhIoHOFM+zfv0AZtoB7xOWHrCQs4ROOPmPHv2hOQQbkuIsFiwV6sQFRi/YGFzc4YJcvfnph7BAYQH0x0kn2A+/AKzD3k7n6CgNvL05fMz+MsfOlaevdn2XHoMLHYeBOrt55lnyDkw0gGynVYbgrcx0AADEDSwGH/77ddYBCd5J+AEGmJo3gMUSqBhctNNwCB8HkG2G2cHoqiii8+ppx6KD+C4EmTFzcfgeqdRJyCKMHpknAUUxBbgiM/h6CJggRWH2pOc2adckiAZ56JACwFp2kLOEfkclUGtRtB+F0Amo5VR0obmSAR0Ft9xAhKk4UoDPPcASn+tVOeXJ9kGU2MrxZYBSZxNJRFpDJ0EmU0neThBVJhmqummnAYEACH5BAAKAAAAIf8LTkVUU0NBUEUyLjADAQAAACwIAAgAMAAsAIQAAAAzAAAAMwAzMwAAADMzADMAMzMzMzMzZjNmZjNmM2YzZmZmZmaZZmZmmWaZmWZmZpmZZplmmZmZmZnMmZmZmczMmczMzMz/zP8AAAAAAAAAAAAAAAAAAAAAAAAAAAAI/wABCBxIsKDBgwgHXmDAYELChxAjAnAosaLFgQcuapSYIOPGjwgNeARJEuPIkiQHFEBZ8sBJlhtdwiR5QMBMkDJvanT5UmdEnj4t1swZVCLQohEDiOyJ1KCAAkybFiQwIKpQkk9tWmRwgCEAhgwGgrWodIDFBFwPoFWg1utYglEJCAhAwOLSAAsUIDiwoCtYrhUuBJ5QgXBBugKsGuzqkmHXCxMiO25YOLJlyy7nEoXIsyFkrhggT2DAtqHlyhMgpI6sYGlFhqclTxDNoO+ByxMiSIjgoIEE3xMeMIDgoGJkC7h3S+YaubLqhtBTP4ggWWKAy4ULUyc8oeNl3rwhNMOA8Hu3hMgRJGafPQE57gkKGur2PZz+aPCjJ/yO6DlwZdSFnadfeA04MNwDz0lHnW6vNUTBf7gt6EAEDEGAIHDbqXZeWBoFACFq5xFnIXnoyZbbA6OB5OGD3H2nXwO5vXcZBFhdYOODFVAgo4y65cYhSRUEBhlqzcVGZGQQ/PjRBCzmF2SOhQkGWZMDBVcSexUQdJ1og9FGUGQAKPZQiyShB1KRIFVWppkfXaDjmhFoJRVC2805Jph2ImRZnggFSVFQAQEAIfkEAAoAAAAh/wtORVRTQ0FQRTIuMAMBAAAALAoABwApAC8AhAAAADMAAAAzADMzAAAAMzMAMwAzMzMzM2ZmM2YzZjNmZmZmZplmZmaZZpmZZmZmmZlmmWaZmZmZmcyZmZmZzMyZzMzMzP/MzMzM/8z//wAAAAAAAAAAAAAAAAAAAAAAAAj/AAEIHEiwoMGDBC00gICwoUOHEhY8nEhR4IIDFTM6xKixo0GOHkMCAClS4wIBJT0eKJCy44EBLTUeMBCz4oGbNSneJJkT4c6eG2/CBNoQJ1GEAgIoOIqQgACeTAUGMBAgqkEBBaBGdTrUqlSsKEtKXFBVIoAFZgcSAIA1pMQDaOGepWABrYSBAzBmlRnXIoIDChjYtStBwgPDCBTIrfg3wM24CRZElHzRcMTChx08yLjzQIYLCxQgoFA47oLDlCMwsOzA5sUFFjBMJi0hwsUDEjRTNuzAMMW/pwtbKF1YAoTXqCNCWBgBwt2JaCVbqFCYtvOICB44OL1AtXcGtisWna8+XgKF5gsXpLd8nSFF8hQmlC/+oMGD7quLo6dIoDB1C6TRVhwEmhUYgXHjuTfRcADKB59+EDQ3X2lpbZSVeQFKMEGG89FGGgCFaSQAAwAOR1dxApo3wXDPgdiieBJYICNd1Kl4IoAvhqgRedQJFGOMAq1V0IkexfihVwKRNhySPpr3olVOVgiljkxex2STCiJZ3JUuPmnVAkfGFBAAOw==\" />"
          }
        },
        "c619cadba6d6425a88d2893bc15541ad": {
          "model_module": "@jupyter-widgets/base",
          "model_name": "LayoutModel",
          "model_module_version": "1.2.0",
          "state": {
            "_model_module": "@jupyter-widgets/base",
            "_model_module_version": "1.2.0",
            "_model_name": "LayoutModel",
            "_view_count": null,
            "_view_module": "@jupyter-widgets/base",
            "_view_module_version": "1.2.0",
            "_view_name": "LayoutView",
            "align_content": null,
            "align_items": null,
            "align_self": null,
            "border": null,
            "bottom": null,
            "display": null,
            "flex": null,
            "flex_flow": null,
            "grid_area": null,
            "grid_auto_columns": null,
            "grid_auto_flow": null,
            "grid_auto_rows": null,
            "grid_column": null,
            "grid_gap": null,
            "grid_row": null,
            "grid_template_areas": null,
            "grid_template_columns": null,
            "grid_template_rows": null,
            "height": null,
            "justify_content": null,
            "justify_items": null,
            "left": null,
            "margin": null,
            "max_height": null,
            "max_width": null,
            "min_height": null,
            "min_width": null,
            "object_fit": null,
            "object_position": null,
            "order": null,
            "overflow": null,
            "overflow_x": null,
            "overflow_y": null,
            "padding": null,
            "right": null,
            "top": null,
            "visibility": null,
            "width": null
          }
        },
        "65e32bd7a2004cde8fb1483316ad6f24": {
          "model_module": "@jupyter-widgets/controls",
          "model_name": "DescriptionStyleModel",
          "model_module_version": "1.5.0",
          "state": {
            "_model_module": "@jupyter-widgets/controls",
            "_model_module_version": "1.5.0",
            "_model_name": "DescriptionStyleModel",
            "_view_count": null,
            "_view_module": "@jupyter-widgets/base",
            "_view_module_version": "1.2.0",
            "_view_name": "StyleView",
            "description_width": ""
          }
        }
      }
    }
  },
  "nbformat": 4,
  "nbformat_minor": 0
}