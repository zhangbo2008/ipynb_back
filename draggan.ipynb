{
  "cells": [
    {
      "cell_type": "markdown",
      "metadata": {
        "id": "8LIt62zuF--t"
      },
      "source": [
        "# DragGAN Colab Demo\n",
        "\n",
        "Wild implementation of [Drag Your GAN: Interactive Point-based Manipulation on the Generative Image Manifold](https://vcai.mpi-inf.mpg.de/projects/DragGAN/)"
      ]
    },
    {
      "cell_type": "code",
      "execution_count": null,
      "metadata": {
        "id": "BoBrtOHuF--x"
      },
      "outputs": [],
      "source": [
        "#@title Installation\n",
        "!git clone https://github.com/Zeqiang-Lai/DragGAN.git\n",
        "\n",
        "import sys\n",
        "sys.path.append(\".\")\n",
        "sys.path.append('./DragGAN')\n",
        "\n",
        "!pip install -r DragGAN/requirements.txt\n",
        "\n",
        "from gradio_app import main"
      ]
    },
    {
      "cell_type": "markdown",
      "metadata": {
        "id": "VzNBTz6gF--z"
      },
      "source": [
        "**If you have problem in the following demo, such as the incorrected image, or facing errors. Please try to run the following block again.**\n",
        "\n",
        "If the errors still exist, you could fire an issue on [Github](https://github.com/Zeqiang-Lai/DragGAN)."
      ]
    },
    {
      "cell_type": "code",
      "execution_count": null,
      "metadata": {
        "id": "PMEG2pS5F--0"
      },
      "outputs": [],
      "source": [
        "demo = main()\n",
        "demo.queue(concurrency_count=1, max_size=20).launch()"
      ]
    }
  ],
  "metadata": {
    "kernelspec": {
      "display_name": "torch1.10",
      "language": "python",
      "name": "python3"
    },
    "language_info": {
      "codemirror_mode": {
        "name": "ipython",
        "version": 3
      },
      "file_extension": ".py",
      "mimetype": "text/x-python",
      "name": "python",
      "nbconvert_exporter": "python",
      "pygments_lexer": "ipython3",
      "version": "3.7.12"
    },
    "orig_nbformat": 4,
    "colab": {
      "provenance": []
    }
  },
  "nbformat": 4,
  "nbformat_minor": 0
}